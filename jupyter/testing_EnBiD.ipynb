{
 "cells": [
  {
   "cell_type": "code",
   "execution_count": 1,
   "id": "f130bf6c",
   "metadata": {},
   "outputs": [
    {
     "data": {
      "text/plain": [
       "'0.1.3.dev1'"
      ]
     },
     "execution_count": 1,
     "metadata": {},
     "output_type": "execute_result"
    }
   ],
   "source": [
    "import numpy as np\n",
    "import EnBiD_ananke\n",
    "EnBiD_ananke.__version__"
   ]
  },
  {
   "cell_type": "markdown",
   "id": "a8026efc",
   "metadata": {},
   "source": [
    "Creating mock coordinates"
   ]
  },
  {
   "cell_type": "code",
   "execution_count": 2,
   "id": "3a74890b",
   "metadata": {},
   "outputs": [],
   "source": [
    "np.random.seed(0)\n",
    "points = np.random.randn(100000, 3)"
   ]
  },
  {
   "cell_type": "markdown",
   "id": "d0809afe",
   "metadata": {},
   "source": [
    "Test enbid"
   ]
  },
  {
   "cell_type": "code",
   "execution_count": 3,
   "id": "fa0e3b78",
   "metadata": {},
   "outputs": [
    {
     "name": "stdout",
     "output_type": "stream",
     "text": [
      "Dimensions = 3\n",
      "Normalization constant of Kernel type 3: 0.596831\n",
      "Reading ASCII format file: to_enbid \n",
      "Read 300000 records\n",
      "Allocated 3.8147 MByte for particle storage.\n",
      "Type = 1 Particles = 100000\n",
      "Total particles = 100000\n",
      "Allocated 22.1252 MByte for Binary-Tree and Entropy bins.\n",
      "\n",
      "Scaling Co-ordinates as x[i]=x[i]/h[i] with h[i]->\n",
      "1 1 1 \n",
      "\n",
      "Starting to Build Tree .......\n",
      "Particle Type = 1 First node number = 1\n",
      "                  Last node number  = 199999\n",
      "Total number of nodes = 199999\n",
      "Treebuild time = 0.088273 s \n",
      "\n",
      "Density Calculation. Smoothing .....\n",
      "Evaluated =   1 % Time Left = 0.582411 s of 0.588300 s Par no = 96805 Density = 1.225911e+03 \n",
      "Evaluated =   2 % Time Left = 0.575303 s of 0.587050 s Par no = 55454 Density = 1.340424e+02 \n",
      "Evaluated =   3 % Time Left = 0.591856 s of 0.610167 s Par no = 27717 Density = 4.933486e+03 \n",
      "Evaluated =   4 % Time Left = 0.614130 s of 0.639725 s Par no = 42234 Density = 7.323413e+02 \n",
      "Evaluated =   5 % Time Left = 0.623440 s of 0.656260 s Par no = 99785 Density = 8.067710e+03 \n",
      "Evaluated =   6 % Time Left = 0.627553 s of 0.667617 s Par no = 88021 Density = 4.836059e+03 \n",
      "Evaluated =   7 % Time Left = 0.635994 s of 0.683871 s Par no = 75708 Density = 3.145655e+03 \n",
      "Evaluated =   8 % Time Left = 0.628077 s of 0.682700 s Par no = 45579 Density = 1.958960e+03 \n",
      "Evaluated =   9 % Time Left = 0.606114 s of 0.666067 s Par no = 30351 Density = 2.383814e+03 \n",
      "Evaluated =  10 % Time Left = 0.602183 s of 0.669100 s Par no = 89176 Density = 4.795197e+03 \n",
      "Evaluated =  11 % Time Left = 0.591957 s of 0.665127 s Par no = 60361 Density = 2.240968e+03 \n",
      "Evaluated =  12 % Time Left = 0.583294 s of 0.662842 s Par no = 90082 Density = 5.949680e+03 \n",
      "Evaluated =  13 % Time Left = 0.581541 s of 0.668446 s Par no = 26814 Density = 5.159684e+02 \n",
      "Evaluated =  14 % Time Left = 0.570677 s of 0.663586 s Par no = 74297 Density = 5.825657e+02 \n",
      "Evaluated =  15 % Time Left = 0.567159 s of 0.667253 s Par no = 94905 Density = 2.462302e+03 \n",
      "Evaluated =  16 % Time Left = 0.560893 s of 0.667737 s Par no = 51653 Density = 2.610044e+03 \n",
      "Evaluated =  17 % Time Left = 0.553408 s of 0.666765 s Par no = 39308 Density = 3.476992e+03 \n",
      "Evaluated =  18 % Time Left = 0.546696 s of 0.666711 s Par no = 7800 Density = 1.115129e+03 \n",
      "Evaluated =  19 % Time Left = 0.539215 s of 0.665705 s Par no = 42838 Density = 1.596854e+03 \n",
      "Evaluated =  20 % Time Left = 0.533573 s of 0.666975 s Par no = 49016 Density = 4.198072e+03 \n",
      "Evaluated =  21 % Time Left = 0.526137 s of 0.666005 s Par no = 29173 Density = 1.615081e+03 \n",
      "Evaluated =  22 % Time Left = 0.517828 s of 0.663891 s Par no = 14018 Density = 1.272609e+03 \n",
      "Evaluated =  23 % Time Left = 0.509998 s of 0.662343 s Par no = 90617 Density = 1.103817e+03 \n",
      "Evaluated =  24 % Time Left = 0.503987 s of 0.663150 s Par no = 20588 Density = 3.439478e+03 \n",
      "Evaluated =  25 % Time Left = 0.497144 s of 0.662868 s Par no = 15465 Density = 3.440462e+03 \n",
      "Evaluated =  26 % Time Left = 0.494242 s of 0.667904 s Par no = 99360 Density = 5.519367e+03 \n",
      "Evaluated =  27 % Time Left = 0.486108 s of 0.665911 s Par no = 71132 Density = 5.614421e+02 \n",
      "Evaluated =  28 % Time Left = 0.477497 s of 0.663200 s Par no = 6665 Density = 1.178834e+02 \n",
      "Evaluated =  29 % Time Left = 0.473203 s of 0.666493 s Par no = 44439 Density = 3.952078e+03 \n",
      "Evaluated =  30 % Time Left = 0.465848 s of 0.665507 s Par no = 6386 Density = 4.928041e+03 \n",
      "Evaluated =  31 % Time Left = 0.459843 s of 0.666448 s Par no = 2716 Density = 4.038069e+03 \n",
      "Evaluated =  32 % Time Left = 0.453152 s of 0.666409 s Par no = 69470 Density = 1.832000e+03 \n",
      "Evaluated =  33 % Time Left = 0.447992 s of 0.668655 s Par no = 95884 Density = 4.842792e+03 \n",
      "Evaluated =  34 % Time Left = 0.440794 s of 0.667879 s Par no = 73768 Density = 3.497342e+02 \n",
      "Evaluated =  35 % Time Left = 0.434160 s of 0.667949 s Par no = 47898 Density = 2.939383e+03 \n",
      "Evaluated =  36 % Time Left = 0.426276 s of 0.666067 s Par no = 66396 Density = 1.068980e+03 \n",
      "Evaluated =  37 % Time Left = 0.420598 s of 0.667627 s Par no = 16463 Density = 4.244989e+03 \n",
      "Evaluated =  38 % Time Left = 0.415852 s of 0.670739 s Par no = 55669 Density = 4.622497e+03 \n",
      "Evaluated =  39 % Time Left = 0.410479 s of 0.672928 s Par no = 97705 Density = 3.332969e+03 \n",
      "Evaluated =  40 % Time Left = 0.403241 s of 0.672080 s Par no = 43442 Density = 1.814322e+03 \n",
      "Evaluated =  41 % Time Left = 0.396555 s of 0.672139 s Par no = 10242 Density = 5.677834e+03 \n",
      "Evaluated =  42 % Time Left = 0.392050 s of 0.675960 s Par no = 40929 Density = 3.757864e+03 \n",
      "Evaluated =  43 % Time Left = 0.385653 s of 0.676595 s Par no = 5720 Density = 1.768920e+03 \n",
      "Evaluated =  44 % Time Left = 0.378177 s of 0.675327 s Par no = 66730 Density = 2.455286e+03 \n",
      "Evaluated =  45 % Time Left = 0.371445 s of 0.675367 s Par no = 48819 Density = 6.071387e+03 \n",
      "Evaluated =  46 % Time Left = 0.365524 s of 0.676909 s Par no = 32014 Density = 2.487053e+03 \n",
      "Evaluated =  47 % Time Left = 0.358579 s of 0.676577 s Par no = 31533 Density = 7.918544e+02 \n",
      "Evaluated =  48 % Time Left = 0.351334 s of 0.675656 s Par no = 86677 Density = 3.410628e+03 \n",
      "Evaluated =  49 % Time Left = 0.345084 s of 0.676649 s Par no = 81951 Density = 2.376595e+03 \n",
      "Evaluated =  50 % Time Left = 0.338935 s of 0.677884 s Par no = 80149 Density = 4.209583e+03 \n",
      "Evaluated =  51 % Time Left = 0.332377 s of 0.678333 s Par no = 25229 Density = 1.375364e+03 \n",
      "Evaluated =  52 % Time Left = 0.325968 s of 0.679113 s Par no = 89731 Density = 1.346727e+03 \n",
      "Evaluated =  53 % Time Left = 0.318406 s of 0.677474 s Par no = 76366 Density = 4.081032e+03 \n",
      "Evaluated =  54 % Time Left = 0.311766 s of 0.677767 s Par no = 73159 Density = 4.181421e+02 \n",
      "Evaluated =  55 % Time Left = 0.305038 s of 0.677878 s Par no = 54007 Density = 2.366137e+03 \n",
      "Evaluated =  56 % Time Left = 0.297883 s of 0.677021 s Par no = 36235 Density = 1.475810e+03 \n",
      "Evaluated =  57 % Time Left = 0.291053 s of 0.676882 s Par no = 62068 Density = 1.093560e+03 \n",
      "Evaluated =  58 % Time Left = 0.283414 s of 0.674812 s Par no = 37661 Density = 7.173471e+02 \n",
      "Evaluated =  59 % Time Left = 0.276607 s of 0.674668 s Par no = 67914 Density = 5.239754e+03 \n",
      "Evaluated =  60 % Time Left = 0.270093 s of 0.675248 s Par no = 64732 Density = 1.582128e+03 \n",
      "Evaluated =  61 % Time Left = 0.262684 s of 0.673566 s Par no = 88788 Density = 1.933537e+02 \n",
      "Evaluated =  62 % Time Left = 0.255852 s of 0.673313 s Par no = 44083 Density = 7.770026e+02 \n",
      "Evaluated =  63 % Time Left = 0.248657 s of 0.672063 s Par no = 14045 Density = 8.816679e+02 \n",
      "Evaluated =  64 % Time Left = 0.241385 s of 0.670531 s Par no = 93621 Density = 1.408402e+03 \n",
      "Evaluated =  65 % Time Left = 0.234449 s of 0.669872 s Par no = 9132 Density = 2.271121e+03 \n",
      "Evaluated =  66 % Time Left = 0.228090 s of 0.670871 s Par no = 702 Density = 2.998109e+02 \n",
      "Evaluated =  67 % Time Left = 0.221732 s of 0.671936 s Par no = 45670 Density = 6.656099e+02 \n",
      "Evaluated =  68 % Time Left = 0.214734 s of 0.671065 s Par no = 53860 Density = 4.267603e+02 \n",
      "Evaluated =  69 % Time Left = 0.207699 s of 0.670017 s Par no = 79719 Density = 1.202724e+03 \n",
      "Evaluated =  70 % Time Left = 0.200471 s of 0.668259 s Par no = 96401 Density = 2.795039e+02 \n",
      "Evaluated =  71 % Time Left = 0.193311 s of 0.666614 s Par no = 48105 Density = 1.000346e+03 \n",
      "Evaluated =  72 % Time Left = 0.186337 s of 0.665514 s Par no = 75056 Density = 7.133714e+02 \n",
      "Evaluated =  73 % Time Left = 0.179439 s of 0.664615 s Par no = 97912 Density = 4.795105e+03 \n",
      "Evaluated =  74 % Time Left = 0.172619 s of 0.663943 s Par no = 87879 Density = 2.011978e+03 \n",
      "Evaluated =  75 % Time Left = 0.166179 s of 0.664741 s Par no = 85159 Density = 3.949509e+02 \n",
      "Evaluated =  76 % Time Left = 0.159530 s of 0.664737 s Par no = 78132 Density = 1.431570e+03 \n",
      "Evaluated =  77 % Time Left = 0.152829 s of 0.664503 s Par no = 21990 Density = 9.443631e+01 \n",
      "Evaluated =  78 % Time Left = 0.145845 s of 0.662963 s Par no = 16462 Density = 6.702307e+02 \n",
      "Evaluated =  79 % Time Left = 0.139046 s of 0.662157 s Par no = 22311 Density = 9.642867e+02 \n",
      "Evaluated =  80 % Time Left = 0.132203 s of 0.661048 s Par no = 43269 Density = 4.795918e+02 \n",
      "Evaluated =  81 % Time Left = 0.125695 s of 0.661589 s Par no = 43142 Density = 4.137218e+02 \n",
      "Evaluated =  82 % Time Left = 0.119068 s of 0.661527 s Par no = 52197 Density = 8.232419e+02 \n",
      "Evaluated =  83 % Time Left = 0.112369 s of 0.661035 s Par no = 74476 Density = 3.913844e+03 \n",
      "Evaluated =  84 % Time Left = 0.105825 s of 0.661445 s Par no = 8891 Density = 2.837244e+02 \n",
      "Evaluated =  85 % Time Left = 0.099193 s of 0.661329 s Par no = 1559 Density = 3.920510e+01 \n",
      "Evaluated =  86 % Time Left = 0.092533 s of 0.660994 s Par no = 20602 Density = 5.477585e+03 \n",
      "Evaluated =  87 % Time Left = 0.086076 s of 0.662174 s Par no = 54383 Density = 5.770213e+03 \n",
      "Evaluated =  88 % Time Left = 0.079604 s of 0.663425 s Par no = 70246 Density = 7.444154e+01 \n",
      "Evaluated =  89 % Time Left = 0.073059 s of 0.664230 s Par no = 51472 Density = 1.365773e+01 \n",
      "Evaluated =  90 % Time Left = 0.066340 s of 0.663471 s Par no = 66269 Density = 9.802451e+02 \n",
      "Evaluated =  91 % Time Left = 0.059786 s of 0.664363 s Par no = 62858 Density = 4.795286e+03 \n",
      "Evaluated =  92 % Time Left = 0.053245 s of 0.665640 s Par no = 84061 Density = 3.887623e+03 \n",
      "Evaluated =  93 % Time Left = 0.046633 s of 0.666280 s Par no = 78610 Density = 1.088011e+02 \n",
      "Evaluated =  94 % Time Left = 0.039996 s of 0.666711 s Par no = 3871 Density = 4.313108e+03 \n",
      "Evaluated =  95 % Time Left = 0.033414 s of 0.668423 s Par no = 68736 Density = 4.273035e+03 \n",
      "Evaluated =  96 % Time Left = 0.026795 s of 0.670046 s Par no = 30472 Density = 1.820649e+03 \n",
      "Evaluated =  97 % Time Left = 0.020142 s of 0.671633 s Par no = 86838 Density = 3.653680e+01 \n",
      "Evaluated =  98 % Time Left = 0.013456 s of 0.673148 s Par no = 92913 Density = 1.407014e+03 \n",
      "Evaluated =  99 % Time Left = 0.006740 s of 0.674698 s Par no = 30015 Density = 2.478409e+01 \n",
      "Evaluated = 100 % Time Left = -0.000007 s of 0.675923 s Par no = 86525 Density = 4.263349e+00 \n",
      "\n",
      "Total Smoothing Time = 0.675964 s\n",
      "1 3\n",
      "\n",
      "writing snapshot file ....\n",
      "to_enbid_d3n64.est\n",
      "done with snapshot.\n",
      "\n",
      "Total Time = 0.950499 s \n",
      "\n"
     ]
    }
   ],
   "source": [
    "name='demo'\n",
    "rho = EnBiD_ananke.enbid(points, name=name)"
   ]
  },
  {
   "cell_type": "markdown",
   "id": "5b85b27e",
   "metadata": {},
   "source": [
    "Show result"
   ]
  },
  {
   "cell_type": "code",
   "execution_count": 4,
   "id": "cf4db07a",
   "metadata": {},
   "outputs": [
    {
     "name": "stdout",
     "output_type": "stream",
     "text": [
      "[ 651.234    75.1153 4508.98   ... 4492.94   3617.07    424.864 ]\n"
     ]
    }
   ],
   "source": [
    "print(rho)"
   ]
  }
 ],
 "metadata": {
  "kernelspec": {
   "display_name": "base",
   "language": "python",
   "name": "python3"
  },
  "language_info": {
   "codemirror_mode": {
    "name": "ipython",
    "version": 3
   },
   "file_extension": ".py",
   "mimetype": "text/x-python",
   "name": "python",
   "nbconvert_exporter": "python",
   "pygments_lexer": "ipython3",
   "version": "3.10.12"
  },
  "vscode": {
   "interpreter": {
    "hash": "93aa337d3be5595eae1049f286a1f242db5cd4d40fd613efbe29fb4c796799bf"
   }
  }
 },
 "nbformat": 4,
 "nbformat_minor": 5
}
