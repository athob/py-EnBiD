{
 "cells": [
  {
   "cell_type": "code",
   "execution_count": 1,
   "id": "f130bf6c",
   "metadata": {},
   "outputs": [],
   "source": [
    "import numpy as np\n",
    "import EnBiD"
   ]
  },
  {
   "cell_type": "markdown",
   "id": "a8026efc",
   "metadata": {},
   "source": [
    "Creating mock coordinates"
   ]
  },
  {
   "cell_type": "code",
   "execution_count": 2,
   "id": "3a74890b",
   "metadata": {},
   "outputs": [],
   "source": [
    "points = np.random.randn(100000, 3)"
   ]
  },
  {
   "cell_type": "markdown",
   "id": "d0809afe",
   "metadata": {},
   "source": [
    "Test enbid"
   ]
  },
  {
   "cell_type": "code",
   "execution_count": 3,
   "id": "fa0e3b78",
   "metadata": {},
   "outputs": [
    {
     "name": "stdout",
     "output_type": "stream",
     "text": [
      "Dimensions = 3\n",
      "Normalization constant of Kernel type 3: 0.596831\n",
      "Reading ASCII format file: to_enbid \n",
      "Read 300000 records\n",
      "Allocated 3.8147 MByte for particle storage.\n",
      "Type = 1 Particles = 100000\n",
      "Total particles = 100000\n",
      "Allocated 22.1252 MByte for Binary-Tree and Entropy bins.\n",
      "\n",
      "Scaling Co-ordinates as x[i]=x[i]/h[i] with h[i]->\n",
      "1 1 1 \n",
      "\n",
      "Starting to Build Tree .......\n",
      "Particle Type = 1 First node number = 1\n",
      "                  Last node number  = 199999\n",
      "Total number of nodes = 199999\n",
      "Treebuild time = 0.286925 s \n",
      "\n",
      "Density Calculation. Smoothing .....\n",
      "Evaluated =   1 % Time Left = 3.130843 s of 3.162500 s Par no = 74935 Density = 6.745021e+03 \n",
      "Evaluated =   2 % Time Left = 3.558393 s of 3.631050 s Par no = 33140 Density = 2.617819e+03 \n",
      "Evaluated =   3 % Time Left = 3.574801 s of 3.685400 s Par no = 26302 Density = 1.849783e+03 \n",
      "Evaluated =   4 % Time Left = 3.509579 s of 3.655850 s Par no = 21589 Density = 6.054823e+02 \n",
      "Evaluated =   5 % Time Left = 3.376112 s of 3.553840 s Par no = 45359 Density = 1.873580e+03 \n",
      "Evaluated =   6 % Time Left = 3.386690 s of 3.602900 s Par no = 67091 Density = 3.877865e+03 \n",
      "Evaluated =   7 % Time Left = 3.495806 s of 3.758971 s Par no = 38864 Density = 5.988239e+03 \n",
      "Evaluated =   8 % Time Left = 3.510567 s of 3.815875 s Par no = 28007 Density = 4.500094e+03 \n",
      "Evaluated =   9 % Time Left = 3.520003 s of 3.868178 s Par no = 79073 Density = 4.953442e+03 \n",
      "Evaluated =  10 % Time Left = 3.509304 s of 3.899270 s Par no = 35240 Density = 1.135659e+03 \n",
      "Evaluated =  11 % Time Left = 3.471479 s of 3.900582 s Par no = 2891 Density = 1.099794e+03 \n",
      "Evaluated =  12 % Time Left = 3.552908 s of 4.037442 s Par no = 65073 Density = 1.896244e+03 \n",
      "Evaluated =  13 % Time Left = 3.467901 s of 3.986138 s Par no = 4771 Density = 1.960436e+03 \n",
      "Evaluated =  14 % Time Left = 3.378514 s of 3.928550 s Par no = 65354 Density = 6.176334e+03 \n",
      "Evaluated =  15 % Time Left = 3.306178 s of 3.889667 s Par no = 21847 Density = 3.614297e+03 \n",
      "Evaluated =  16 % Time Left = 3.255229 s of 3.875319 s Par no = 32316 Density = 5.317305e+03 \n",
      "Evaluated =  17 % Time Left = 3.250514 s of 3.916329 s Par no = 22625 Density = 2.056357e+03 \n",
      "Evaluated =  18 % Time Left = 3.206293 s of 3.910161 s Par no = 87518 Density = 4.911801e+03 \n",
      "Evaluated =  19 % Time Left = 3.154122 s of 3.894026 s Par no = 39269 Density = 3.374020e+03 \n",
      "Evaluated =  20 % Time Left = 3.096189 s of 3.870285 s Par no = 2917 Density = 2.104031e+03 \n",
      "Evaluated =  21 % Time Left = 3.026004 s of 3.830433 s Par no = 19529 Density = 1.270502e+03 \n",
      "Evaluated =  22 % Time Left = 2.961994 s of 3.797477 s Par no = 21799 Density = 6.112559e+03 \n",
      "Evaluated =  23 % Time Left = 2.921754 s of 3.794535 s Par no = 40824 Density = 6.196708e+03 \n",
      "Evaluated =  24 % Time Left = 2.910971 s of 3.830275 s Par no = 72510 Density = 1.364682e+03 \n",
      "Evaluated =  25 % Time Left = 2.862826 s of 3.817152 s Par no = 8066 Density = 2.124523e+03 \n",
      "Evaluated =  26 % Time Left = 2.821155 s of 3.812423 s Par no = 93172 Density = 2.465932e+03 \n",
      "Evaluated =  27 % Time Left = 2.784333 s of 3.814207 s Par no = 78741 Density = 2.345554e+03 \n",
      "Evaluated =  28 % Time Left = 2.774317 s of 3.853271 s Par no = 85056 Density = 6.757368e+03 \n",
      "Evaluated =  29 % Time Left = 2.803829 s of 3.949110 s Par no = 57491 Density = 4.910218e+03 \n",
      "Evaluated =  30 % Time Left = 2.767018 s of 3.952940 s Par no = 31981 Density = 1.258553e+03 \n",
      "Evaluated =  31 % Time Left = 2.740017 s of 3.971097 s Par no = 3114 Density = 7.649991e+02 \n",
      "Evaluated =  32 % Time Left = 2.685595 s of 3.949462 s Par no = 3732 Density = 3.246119e+03 \n",
      "Evaluated =  33 % Time Left = 2.636141 s of 3.934597 s Par no = 18013 Density = 4.785866e+02 \n",
      "Evaluated =  34 % Time Left = 2.589917 s of 3.924176 s Par no = 43170 Density = 1.406844e+03 \n",
      "Evaluated =  35 % Time Left = 2.545454 s of 3.916143 s Par no = 91246 Density = 3.630032e+03 \n",
      "Evaluated =  36 % Time Left = 2.493941 s of 3.896844 s Par no = 12859 Density = 5.997705e+03 \n",
      "Evaluated =  37 % Time Left = 2.447118 s of 3.884376 s Par no = 18559 Density = 1.454575e+03 \n",
      "Evaluated =  38 % Time Left = 2.403288 s of 3.876334 s Par no = 76919 Density = 5.174543e+03 \n",
      "Evaluated =  39 % Time Left = 2.385025 s of 3.909941 s Par no = 62338 Density = 3.371207e+03 \n",
      "Evaluated =  40 % Time Left = 2.386648 s of 3.977813 s Par no = 11724 Density = 3.358488e+03 \n",
      "Evaluated =  41 % Time Left = 2.343863 s of 3.972717 s Par no = 2493 Density = 3.827210e+03 \n",
      "Evaluated =  42 % Time Left = 2.312457 s of 3.987064 s Par no = 38281 Density = 1.696768e+03 \n",
      "Evaluated =  43 % Time Left = 2.268088 s of 3.979172 s Par no = 10633 Density = 9.550583e+02 \n",
      "Evaluated =  44 % Time Left = 2.217824 s of 3.960470 s Par no = 21355 Density = 2.645018e+03 \n",
      "Evaluated =  45 % Time Left = 2.181027 s of 3.965576 s Par no = 50235 Density = 5.904228e+02 \n",
      "Evaluated =  46 % Time Left = 2.137944 s of 3.959228 s Par no = 28316 Density = 1.853762e+03 \n",
      "Evaluated =  47 % Time Left = 2.089893 s of 3.943268 s Par no = 32486 Density = 3.408617e+02 \n",
      "Evaluated =  48 % Time Left = 2.040278 s of 3.923687 s Par no = 12288 Density = 1.683091e+03 \n",
      "Evaluated =  49 % Time Left = 2.000788 s of 3.923190 s Par no = 6410 Density = 5.156144e+03 \n",
      "Evaluated =  50 % Time Left = 1.958865 s of 3.917808 s Par no = 80363 Density = 1.769627e+03 \n",
      "Evaluated =  51 % Time Left = 1.920658 s of 3.919790 s Par no = 56186 Density = 1.820814e+03 \n",
      "Evaluated =  52 % Time Left = 1.891605 s of 3.940925 s Par no = 53502 Density = 2.562716e+03 \n",
      "Evaluated =  53 % Time Left = 1.852086 s of 3.940692 s Par no = 99912 Density = 7.469566e+03 \n",
      "Evaluated =  54 % Time Left = 1.812333 s of 3.939941 s Par no = 21944 Density = 2.278297e+03 \n",
      "Evaluated =  55 % Time Left = 1.768039 s of 3.929064 s Par no = 7009 Density = 2.362393e+03 \n",
      "Evaluated =  56 % Time Left = 1.728358 s of 3.928175 s Par no = 440 Density = 6.857382e+02 \n",
      "Evaluated =  57 % Time Left = 1.691286 s of 3.933316 s Par no = 49749 Density = 1.015822e+03 \n",
      "Evaluated =  58 % Time Left = 1.647816 s of 3.923466 s Par no = 54919 Density = 6.041681e+02 \n",
      "Evaluated =  59 % Time Left = 1.601838 s of 3.907017 s Par no = 22524 Density = 2.041163e+02 \n",
      "Evaluated =  60 % Time Left = 1.567370 s of 3.918523 s Par no = 34662 Density = 3.036390e+03 \n",
      "Evaluated =  61 % Time Left = 1.535607 s of 3.937556 s Par no = 14105 Density = 3.245338e+03 \n",
      "Evaluated =  62 % Time Left = 1.500052 s of 3.947610 s Par no = 95467 Density = 2.519829e+03 \n",
      "Evaluated =  63 % Time Left = 1.459446 s of 3.944556 s Par no = 65323 Density = 2.328905e+03 \n",
      "Evaluated =  64 % Time Left = 1.414333 s of 3.928812 s Par no = 5490 Density = 9.976633e+02 \n",
      "Evaluated =  65 % Time Left = 1.375798 s of 3.930963 s Par no = 82792 Density = 3.869495e+03 \n",
      "Evaluated =  66 % Time Left = 1.340427 s of 3.942548 s Par no = 45608 Density = 5.632591e+02 \n",
      "Evaluated =  67 % Time Left = 1.298650 s of 3.935421 s Par no = 75565 Density = 1.174782e+03 \n",
      "Evaluated =  68 % Time Left = 1.261354 s of 3.941856 s Par no = 34809 Density = 1.409622e+03 \n",
      "Evaluated =  69 % Time Left = 1.220470 s of 3.937126 s Par no = 89399 Density = 1.232383e+03 \n",
      "Evaluated =  70 % Time Left = 1.179742 s of 3.932604 s Par no = 68842 Density = 4.663921e+00 \n",
      "Evaluated =  71 % Time Left = 1.141466 s of 3.936225 s Par no = 41475 Density = 9.898793e+02 \n",
      "Evaluated =  72 % Time Left = 1.103913 s of 3.942686 s Par no = 9806 Density = 2.611453e+02 \n",
      "Evaluated =  73 % Time Left = 1.064875 s of 3.944129 s Par no = 78461 Density = 8.534705e+02 \n",
      "Evaluated =  74 % Time Left = 1.023664 s of 3.937319 s Par no = 33218 Density = 2.022479e+03 \n",
      "Evaluated =  75 % Time Left = 0.982124 s of 3.928653 s Par no = 50548 Density = 3.340616e+02 \n",
      "Evaluated =  76 % Time Left = 0.939855 s of 3.916224 s Par no = 80498 Density = 4.718959e+03 \n",
      "Evaluated =  77 % Time Left = 0.899160 s of 3.909562 s Par no = 94732 Density = 2.662711e+03 \n",
      "Evaluated =  78 % Time Left = 0.858059 s of 3.900446 s Par no = 83734 Density = 5.909785e+02 \n",
      "Evaluated =  79 % Time Left = 0.826262 s of 3.934767 s Par no = 48783 Density = 3.604462e+02 \n",
      "Evaluated =  80 % Time Left = 0.787007 s of 3.935234 s Par no = 53687 Density = 1.106027e+02 \n",
      "Evaluated =  81 % Time Left = 0.747215 s of 3.932916 s Par no = 40315 Density = 2.191791e+03 \n",
      "Evaluated =  82 % Time Left = 0.709769 s of 3.943378 s Par no = 69646 Density = 9.852257e+01 \n"
     ]
    },
    {
     "name": "stdout",
     "output_type": "stream",
     "text": [
      "Evaluated =  83 % Time Left = 0.677306 s of 3.984386 s Par no = 13387 Density = 3.700122e+03 \n",
      "Evaluated =  84 % Time Left = 0.641600 s of 4.010252 s Par no = 54501 Density = 2.439354e+01 \n",
      "Evaluated =  85 % Time Left = 0.602257 s of 4.015314 s Par no = 93992 Density = 3.334348e+03 \n",
      "Evaluated =  86 % Time Left = 0.561768 s of 4.012917 s Par no = 25534 Density = 3.179544e+03 \n",
      "Evaluated =  87 % Time Left = 0.521007 s of 4.008055 s Par no = 43313 Density = 8.429808e+02 \n",
      "Evaluated =  88 % Time Left = 0.483284 s of 4.027705 s Par no = 46652 Density = 2.777011e+03 \n",
      "Evaluated =  89 % Time Left = 0.445333 s of 4.048847 s Par no = 9727 Density = 1.659987e+03 \n",
      "Evaluated =  90 % Time Left = 0.405137 s of 4.051773 s Par no = 40702 Density = 4.746065e+03 \n",
      "Evaluated =  91 % Time Left = 0.364466 s of 4.050068 s Par no = 62038 Density = 5.738506e+03 \n",
      "Evaluated =  92 % Time Left = 0.323976 s of 4.050201 s Par no = 53797 Density = 1.185525e+03 \n",
      "Evaluated =  93 % Time Left = 0.283140 s of 4.045441 s Par no = 86396 Density = 1.607657e+02 \n",
      "Evaluated =  94 % Time Left = 0.243460 s of 4.058345 s Par no = 83786 Density = 4.760647e+03 \n",
      "Evaluated =  95 % Time Left = 0.203219 s of 4.065192 s Par no = 46778 Density = 3.084137e+03 \n",
      "Evaluated =  96 % Time Left = 0.162788 s of 4.070715 s Par no = 6658 Density = 1.161978e+03 \n",
      "Evaluated =  97 % Time Left = 0.122191 s of 4.074395 s Par no = 7566 Density = 6.302114e+03 \n",
      "Evaluated =  98 % Time Left = 0.081791 s of 4.091584 s Par no = 47034 Density = 2.212559e+02 \n",
      "Evaluated =  99 % Time Left = 0.040924 s of 4.096537 s Par no = 85223 Density = 1.794675e+03 \n",
      "Evaluated = 100 % Time Left = -0.000041 s of 4.093951 s Par no = 90347 Density = 2.516550e+00 \n",
      "\n",
      "Total Smoothing Time = 4.09403 s\n",
      "1 3\n",
      "\n",
      "writing snapshot file ....\n",
      "to_enbid_d3n64.est\n",
      "done with snapshot.\n",
      "\n",
      "Total Time = 5.0515 s \n",
      "\n"
     ]
    }
   ],
   "source": [
    "name='demo'\n",
    "rho = EnBiD.enbid(points, name=name)"
   ]
  },
  {
   "cell_type": "markdown",
   "id": "5b85b27e",
   "metadata": {},
   "source": [
    "Show result"
   ]
  },
  {
   "cell_type": "code",
   "execution_count": 4,
   "id": "cf4db07a",
   "metadata": {},
   "outputs": [
    {
     "name": "stdout",
     "output_type": "stream",
     "text": [
      "[3403.06  1053.53  1749.59  ... 4473.74   723.814  449.606]\n"
     ]
    }
   ],
   "source": [
    "print(rho)"
   ]
  }
 ],
 "metadata": {
  "kernelspec": {
   "display_name": "Python 3 (ipykernel)",
   "language": "python",
   "name": "python3"
  },
  "language_info": {
   "codemirror_mode": {
    "name": "ipython",
    "version": 3
   },
   "file_extension": ".py",
   "mimetype": "text/x-python",
   "name": "python",
   "nbconvert_exporter": "python",
   "pygments_lexer": "ipython3",
   "version": "3.8.10"
  }
 },
 "nbformat": 4,
 "nbformat_minor": 5
}
