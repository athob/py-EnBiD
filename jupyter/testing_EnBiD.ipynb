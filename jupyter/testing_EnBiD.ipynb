{
 "cells": [
  {
   "cell_type": "code",
   "execution_count": 1,
   "id": "f130bf6c",
   "metadata": {},
   "outputs": [],
   "source": [
    "import numpy as np\n",
    "import EnBiD"
   ]
  },
  {
   "cell_type": "markdown",
   "id": "a8026efc",
   "metadata": {},
   "source": [
    "Creating mock coordinates"
   ]
  },
  {
   "cell_type": "code",
   "execution_count": 2,
   "id": "3a74890b",
   "metadata": {},
   "outputs": [],
   "source": [
    "points = np.random.randn(100000, 3)"
   ]
  },
  {
   "cell_type": "markdown",
   "id": "d0809afe",
   "metadata": {},
   "source": [
    "Test enbid"
   ]
  },
  {
   "cell_type": "code",
   "execution_count": 3,
   "id": "fa0e3b78",
   "metadata": {},
   "outputs": [
    {
     "name": "stdout",
     "output_type": "stream",
     "text": [
      "Dimensions = 3\n",
      "Normalization constant of Kernel type 3: 0.596831\n",
      "Reading ASCII format file: to_enbid \n",
      "Read 300000 records\n",
      "Allocated 3.8147 MByte for particle storage.\n",
      "Type = 1 Particles = 100000\n",
      "Total particles = 100000\n",
      "Allocated 22.1252 MByte for Binary-Tree and Entropy bins.\n",
      "\n",
      "Scaling Co-ordinates as x[i]=x[i]/h[i] with h[i]->\n",
      "1 1 1 \n",
      "\n",
      "Starting to Build Tree .......\n",
      "Particle Type = 1 First node number = 1\n",
      "                  Last node number  = 199999\n",
      "Total number of nodes = 199999\n",
      "Treebuild time = 0.374418 s \n",
      "\n",
      "Density Calculation. Smoothing .....\n",
      "Evaluated =   1 % Time Left = 3.499516 s of 3.534900 s Par no = 10803 Density = 3.124903e+03 \n",
      "Evaluated =   2 % Time Left = 4.222679 s of 4.308900 s Par no = 60295 Density = 3.253629e+03 \n",
      "Evaluated =   3 % Time Left = 4.174611 s of 4.303767 s Par no = 14863 Density = 7.810964e+02 \n",
      "Evaluated =   4 % Time Left = 4.603104 s of 4.794950 s Par no = 60393 Density = 8.267841e+03 \n",
      "Evaluated =   5 % Time Left = 5.991435 s of 6.306840 s Par no = 94332 Density = 3.313125e+03 \n",
      "Evaluated =   6 % Time Left = 6.001570 s of 6.384717 s Par no = 90158 Density = 2.273627e+03 \n",
      "Evaluated =   7 % Time Left = 5.748534 s of 6.181286 s Par no = 399 Density = 2.157707e+03 \n",
      "Evaluated =   8 % Time Left = 5.621760 s of 6.110675 s Par no = 5115 Density = 1.018357e+03 \n",
      "Evaluated =   9 % Time Left = 5.577854 s of 6.129578 s Par no = 29474 Density = 1.624115e+02 \n",
      "Evaluated =  10 % Time Left = 5.569552 s of 6.188460 s Par no = 54353 Density = 1.410200e+02 \n",
      "Evaluated =  11 % Time Left = 5.316614 s of 5.973791 s Par no = 31858 Density = 1.870540e+03 \n",
      "Evaluated =  12 % Time Left = 5.279573 s of 5.999583 s Par no = 64721 Density = 2.745152e+03 \n",
      "Evaluated =  13 % Time Left = 5.108073 s of 5.871415 s Par no = 96985 Density = 4.436699e+02 \n",
      "Evaluated =  14 % Time Left = 5.168263 s of 6.009679 s Par no = 42392 Density = 4.838658e+02 \n",
      "Evaluated =  15 % Time Left = 5.095350 s of 5.994600 s Par no = 46253 Density = 9.860934e+02 \n",
      "Evaluated =  16 % Time Left = 4.887876 s of 5.818969 s Par no = 23609 Density = 1.829233e+03 \n",
      "Evaluated =  17 % Time Left = 4.744418 s of 5.716235 s Par no = 68835 Density = 1.963378e+03 \n",
      "Evaluated =  18 % Time Left = 4.669110 s of 5.694106 s Par no = 78266 Density = 3.000998e+03 \n",
      "Evaluated =  19 % Time Left = 4.612318 s of 5.694289 s Par no = 45501 Density = 1.793468e+03 \n",
      "Evaluated =  20 % Time Left = 4.504292 s of 5.630435 s Par no = 36117 Density = 1.258615e+03 \n",
      "Evaluated =  21 % Time Left = 4.411112 s of 5.583757 s Par no = 56496 Density = 2.480926e+03 \n",
      "Evaluated =  22 % Time Left = 4.455916 s of 5.712786 s Par no = 423 Density = 5.584234e+03 \n",
      "Evaluated =  23 % Time Left = 4.361019 s of 5.663735 s Par no = 70466 Density = 1.416254e+03 \n",
      "Evaluated =  24 % Time Left = 4.304973 s of 5.664512 s Par no = 95597 Density = 4.820298e+02 \n",
      "Evaluated =  25 % Time Left = 4.352027 s of 5.802780 s Par no = 66044 Density = 2.201277e+03 \n",
      "Evaluated =  26 % Time Left = 4.328879 s of 5.849915 s Par no = 53721 Density = 2.998389e+03 \n",
      "Evaluated =  27 % Time Left = 4.346512 s of 5.954207 s Par no = 38008 Density = 3.481312e+03 \n",
      "Evaluated =  28 % Time Left = 4.480577 s of 6.223111 s Par no = 9460 Density = 8.194103e+02 \n",
      "Evaluated =  29 % Time Left = 4.656369 s of 6.558359 s Par no = 66749 Density = 3.345034e+03 \n",
      "Evaluated =  30 % Time Left = 4.876856 s of 6.967037 s Par no = 31941 Density = 1.363886e+03 \n",
      "Evaluated =  31 % Time Left = 4.846158 s of 7.023519 s Par no = 38180 Density = 4.616571e+02 \n",
      "Evaluated =  32 % Time Left = 4.780100 s of 7.029663 s Par no = 8981 Density = 2.981613e+03 \n",
      "Evaluated =  33 % Time Left = 4.632510 s of 6.914297 s Par no = 80908 Density = 9.261538e+02 \n",
      "Evaluated =  34 % Time Left = 4.579847 s of 6.939268 s Par no = 18705 Density = 3.701018e+03 \n",
      "Evaluated =  35 % Time Left = 4.469792 s of 6.876709 s Par no = 15984 Density = 4.007252e+03 \n",
      "Evaluated =  36 % Time Left = 4.363423 s of 6.817956 s Par no = 6278 Density = 4.723913e+03 \n",
      "Evaluated =  37 % Time Left = 4.288018 s of 6.806486 s Par no = 99847 Density = 2.780467e+03 \n",
      "Evaluated =  38 % Time Left = 4.183081 s of 6.747013 s Par no = 61367 Density = 5.701846e+03 \n",
      "Evaluated =  39 % Time Left = 4.183681 s of 6.858605 s Par no = 15146 Density = 4.682159e+03 \n",
      "Evaluated =  40 % Time Left = 4.092092 s of 6.820267 s Par no = 87716 Density = 6.191505e+03 \n",
      "Evaluated =  41 % Time Left = 3.984066 s of 6.752768 s Par no = 12559 Density = 3.578149e+03 \n",
      "Evaluated =  42 % Time Left = 3.916555 s of 6.752798 s Par no = 26151 Density = 7.177347e+03 \n",
      "Evaluated =  43 % Time Left = 3.842733 s of 6.741756 s Par no = 87968 Density = 2.399131e+03 \n",
      "Evaluated =  44 % Time Left = 3.755810 s of 6.706923 s Par no = 27651 Density = 1.428855e+03 \n",
      "Evaluated =  45 % Time Left = 3.680641 s of 6.692196 s Par no = 10767 Density = 3.160194e+03 \n",
      "Evaluated =  46 % Time Left = 3.598543 s of 6.664091 s Par no = 25525 Density = 5.444979e+03 \n",
      "Evaluated =  47 % Time Left = 3.516348 s of 6.634745 s Par no = 68042 Density = 3.912870e+03 \n",
      "Evaluated =  48 % Time Left = 3.423127 s of 6.583062 s Par no = 1372 Density = 6.909410e+02 \n",
      "Evaluated =  49 % Time Left = 3.351003 s of 6.570722 s Par no = 97362 Density = 5.674446e+03 \n",
      "Evaluated =  50 % Time Left = 3.289174 s of 6.578480 s Par no = 43247 Density = 3.042998e+03 \n",
      "Evaluated =  51 % Time Left = 3.216262 s of 6.563933 s Par no = 70977 Density = 5.449207e+03 \n",
      "Evaluated =  52 % Time Left = 3.126840 s of 6.514387 s Par no = 13305 Density = 9.957084e+02 \n",
      "Evaluated =  53 % Time Left = 3.037644 s of 6.463209 s Par no = 77073 Density = 2.204612e+03 \n",
      "Evaluated =  54 % Time Left = 2.995716 s of 6.512569 s Par no = 25434 Density = 3.158353e+03 \n",
      "Evaluated =  55 % Time Left = 2.959565 s of 6.576956 s Par no = 11704 Density = 2.743145e+03 \n",
      "Evaluated =  56 % Time Left = 2.890554 s of 6.569591 s Par no = 59573 Density = 6.830316e+02 \n",
      "Evaluated =  57 % Time Left = 2.834185 s of 6.591281 s Par no = 77239 Density = 2.028578e+03 \n",
      "Evaluated =  58 % Time Left = 2.780877 s of 6.621293 s Par no = 44225 Density = 2.665010e+03 \n",
      "Evaluated =  59 % Time Left = 2.708657 s of 6.606641 s Par no = 60195 Density = 5.592109e+02 \n",
      "Evaluated =  60 % Time Left = 2.648386 s of 6.621130 s Par no = 77948 Density = 5.701859e+03 \n",
      "Evaluated =  61 % Time Left = 2.566673 s of 6.581380 s Par no = 80531 Density = 5.419080e+02 \n",
      "Evaluated =  62 % Time Left = 2.488551 s of 6.548992 s Par no = 11892 Density = 2.767513e+03 \n",
      "Evaluated =  63 % Time Left = 2.406966 s of 6.505490 s Par no = 9779 Density = 5.228897e+03 \n",
      "Evaluated =  64 % Time Left = 2.333167 s of 6.481200 s Par no = 91845 Density = 2.703155e+02 \n",
      "Evaluated =  65 % Time Left = 2.272746 s of 6.493745 s Par no = 85128 Density = 2.024105e+03 \n",
      "Evaluated =  66 % Time Left = 2.200115 s of 6.471118 s Par no = 22607 Density = 4.526271e+03 \n",
      "Evaluated =  67 % Time Left = 2.119699 s of 6.423525 s Par no = 57658 Density = 3.262551e+02 \n",
      "Evaluated =  68 % Time Left = 2.043289 s of 6.385476 s Par no = 3167 Density = 4.530389e+03 \n",
      "Evaluated =  69 % Time Left = 1.978364 s of 6.382025 s Par no = 956 Density = 8.063629e+02 \n",
      "Evaluated =  70 % Time Left = 1.910458 s of 6.368406 s Par no = 41195 Density = 3.532561e+03 \n",
      "Evaluated =  71 % Time Left = 1.842408 s of 6.353349 s Par no = 85663 Density = 3.464352e+01 \n",
      "Evaluated =  72 % Time Left = 1.769814 s of 6.320992 s Par no = 41219 Density = 3.957654e+01 \n",
      "Evaluated =  73 % Time Left = 1.698129 s of 6.289599 s Par no = 3958 Density = 1.356730e+03 \n",
      "Evaluated =  74 % Time Left = 1.636758 s of 6.295464 s Par no = 97654 Density = 1.023126e+02 \n",
      "Evaluated =  75 % Time Left = 1.573191 s of 6.293015 s Par no = 643 Density = 3.181853e+03 \n",
      "Evaluated =  76 % Time Left = 1.512809 s of 6.303633 s Par no = 19943 Density = 2.284195e+02 \n",
      "Evaluated =  77 % Time Left = 1.441699 s of 6.268527 s Par no = 91215 Density = 3.307407e+03 \n",
      "Evaluated =  78 % Time Left = 1.372814 s of 6.240347 s Par no = 50717 Density = 8.457939e+01 \n",
      "Evaluated =  79 % Time Left = 1.309597 s of 6.236475 s Par no = 75717 Density = 2.796786e+02 \n",
      "Evaluated =  80 % Time Left = 1.243700 s of 6.218809 s Par no = 33928 Density = 1.737676e+03 \n",
      "Evaluated =  81 % Time Left = 1.177297 s of 6.196628 s Par no = 49235 Density = 3.159896e+02 \n",
      "Evaluated =  82 % Time Left = 1.109331 s of 6.163294 s Par no = 46796 Density = 1.699216e+03 \n",
      "Evaluated =  83 % Time Left = 1.043144 s of 6.136500 s Par no = 46386 Density = 4.299977e+02 \n",
      "Evaluated =  84 % Time Left = 0.982161 s of 6.138889 s Par no = 27487 Density = 1.404942e+03 \n",
      "Evaluated =  85 % Time Left = 0.918197 s of 6.121724 s Par no = 43716 Density = 1.431694e+02 \n",
      "Evaluated =  86 % Time Left = 0.853457 s of 6.096560 s Par no = 40466 Density = 1.763855e+01 \n",
      "Evaluated =  87 % Time Left = 0.789882 s of 6.076480 s Par no = 95588 Density = 4.639084e+01 \n",
      "Evaluated =  88 % Time Left = 0.728777 s of 6.073648 s Par no = 78409 Density = 1.163753e+03 \n",
      "Evaluated =  89 % Time Left = 0.666298 s of 6.057808 s Par no = 50119 Density = 4.314892e+03 \n",
      "Evaluated =  90 % Time Left = 0.604358 s of 6.044182 s Par no = 81095 Density = 4.817262e+02 \n",
      "Evaluated =  91 % Time Left = 0.542541 s of 6.028903 s Par no = 6984 Density = 1.605472e+03 \n",
      "Evaluated =  92 % Time Left = 0.480927 s of 6.012334 s Par no = 62235 Density = 5.332900e+03 \n",
      "Evaluated =  93 % Time Left = 0.420380 s of 6.006284 s Par no = 92914 Density = 4.805956e+02 \n",
      "Evaluated =  94 % Time Left = 0.359811 s of 5.997854 s Par no = 57163 Density = 4.841706e+03 \n",
      "Evaluated =  95 % Time Left = 0.299318 s of 5.987554 s Par no = 27340 Density = 7.370168e+02 \n",
      "Evaluated =  96 % Time Left = 0.238958 s of 5.975441 s Par no = 63756 Density = 9.342421e+02 \n",
      "Evaluated =  97 % Time Left = 0.178753 s of 5.960436 s Par no = 60824 Density = 2.118528e+03 \n",
      "Evaluated =  98 % Time Left = 0.120068 s of 6.006410 s Par no = 36960 Density = 3.391993e+03 \n",
      "Evaluated =  99 % Time Left = 0.059978 s of 6.003766 s Par no = 89193 Density = 2.504500e+03 \n",
      "Evaluated = 100 % Time Left = -0.000060 s of 6.006889 s Par no = 51141 Density = 9.334648e-01 \n",
      "\n",
      "Total Smoothing Time = 6.00697 s\n",
      "1 3\n",
      "\n",
      "writing snapshot file ....\n",
      "to_enbid_d3n64.est\n",
      "done with snapshot.\n",
      "\n",
      "Total Time = 8.04196 s \n",
      "\n"
     ]
    }
   ],
   "source": [
    "name='demo'\n",
    "rho = EnBiD.enbid(points, name=name)"
   ]
  },
  {
   "cell_type": "markdown",
   "id": "5b85b27e",
   "metadata": {},
   "source": [
    "Show result"
   ]
  },
  {
   "cell_type": "code",
   "execution_count": 4,
   "id": "cf4db07a",
   "metadata": {},
   "outputs": [
    {
     "name": "stdout",
     "output_type": "stream",
     "text": [
      "[2381.87    324.76     24.7155 ... 2403.99    601.95   2583.35  ]\n"
     ]
    }
   ],
   "source": [
    "print(rho)"
   ]
  }
 ],
 "metadata": {
  "kernelspec": {
   "display_name": "Python 3.8.10 64-bit",
   "language": "python",
   "name": "python3"
  },
  "language_info": {
   "codemirror_mode": {
    "name": "ipython",
    "version": 3
   },
   "file_extension": ".py",
   "mimetype": "text/x-python",
   "name": "python",
   "nbconvert_exporter": "python",
   "pygments_lexer": "ipython3",
   "version": "3.8.10"
  },
  "vscode": {
   "interpreter": {
    "hash": "31f2aee4e71d21fbe5cf8b01ff0e069b9275f58929596ceb00d14d90e3e16cd6"
   }
  }
 },
 "nbformat": 4,
 "nbformat_minor": 5
}
