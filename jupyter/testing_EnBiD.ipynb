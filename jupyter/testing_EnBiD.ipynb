{
 "cells": [
  {
   "cell_type": "code",
   "execution_count": 1,
   "id": "f130bf6c",
   "metadata": {},
   "outputs": [],
   "source": [
    "import numpy as np\n",
    "import EnBiD"
   ]
  },
  {
   "cell_type": "markdown",
   "id": "a8026efc",
   "metadata": {},
   "source": [
    "Creating mock coordinates"
   ]
  },
  {
   "cell_type": "code",
   "execution_count": 3,
   "id": "3a74890b",
   "metadata": {},
   "outputs": [],
   "source": [
    "points = np.random.randn(100000, 3)"
   ]
  },
  {
   "cell_type": "markdown",
   "id": "d0809afe",
   "metadata": {},
   "source": [
    "Test enbid"
   ]
  },
  {
   "cell_type": "code",
   "execution_count": 4,
   "id": "fa0e3b78",
   "metadata": {},
   "outputs": [
    {
     "name": "stdout",
     "output_type": "stream",
     "text": [
      "Dimensions = 3\n",
      "Normalization constant of Kernel type 3: 0.596831\n",
      "Reading ASCII format file: to_enbid \n",
      "Read 300000 records\n",
      "Allocated 3.8147 MByte for particle storage.\n",
      "Type = 1 Particles = 100000\n",
      "Total particles = 100000\n",
      "Allocated 22.1252 MByte for Binary-Tree and Entropy bins.\n",
      "\n",
      "Scaling Co-ordinates as x[i]=x[i]/h[i] with h[i]->\n",
      "1 1 1 \n",
      "\n",
      "Starting to Build Tree .......\n",
      "Particle Type = 1 First node number = 1\n",
      "                  Last node number  = 199999\n",
      "Total number of nodes = 199999\n",
      "Treebuild time = 0.253525 s \n",
      "\n",
      "Density Calculation. Smoothing .....\n",
      "Evaluated =   1 % Time Left = 3.943328 s of 3.983200 s Par no = 93515 Density = 3.075481e+03 \n",
      "Evaluated =   2 % Time Left = 3.706028 s of 3.781700 s Par no = 40320 Density = 3.915143e+03 \n",
      "Evaluated =   3 % Time Left = 3.454070 s of 3.560933 s Par no = 66954 Density = 8.276384e+02 \n",
      "Evaluated =   4 % Time Left = 3.326101 s of 3.464725 s Par no = 79282 Density = 4.521994e+03 \n",
      "Evaluated =   5 % Time Left = 3.293767 s of 3.467160 s Par no = 35620 Density = 1.063643e+03 \n",
      "Evaluated =   6 % Time Left = 3.398409 s of 3.615367 s Par no = 14336 Density = 5.597856e+03 \n",
      "Evaluated =   7 % Time Left = 3.667774 s of 3.943886 s Par no = 60965 Density = 4.468491e+03 \n",
      "Evaluated =   8 % Time Left = 3.615986 s of 3.930463 s Par no = 22860 Density = 1.393290e+03 \n",
      "Evaluated =   9 % Time Left = 3.616108 s of 3.973789 s Par no = 53569 Density = 1.227429e+03 \n",
      "Evaluated =  10 % Time Left = 3.575624 s of 3.972960 s Par no = 78873 Density = 3.588451e+03 \n",
      "Evaluated =  11 % Time Left = 3.548422 s of 3.987036 s Par no = 30258 Density = 6.191903e+03 \n",
      "Evaluated =  12 % Time Left = 3.758195 s of 4.270725 s Par no = 95214 Density = 1.189366e+03 \n",
      "Evaluated =  13 % Time Left = 3.675694 s of 4.224985 s Par no = 21718 Density = 2.585157e+03 \n",
      "Evaluated =  14 % Time Left = 3.585986 s of 4.169800 s Par no = 42513 Density = 2.097691e+03 \n",
      "Evaluated =  15 % Time Left = 3.503166 s of 4.121420 s Par no = 61274 Density = 2.620945e+03 \n",
      "Evaluated =  16 % Time Left = 3.447571 s of 4.104300 s Par no = 86959 Density = 4.057933e+03 \n",
      "Evaluated =  17 % Time Left = 3.417469 s of 4.117482 s Par no = 3897 Density = 2.031870e+03 \n",
      "Evaluated =  18 % Time Left = 3.349345 s of 4.084617 s Par no = 72088 Density = 2.036355e+03 \n",
      "Evaluated =  19 % Time Left = 3.285840 s of 4.056642 s Par no = 39728 Density = 3.213486e+02 \n",
      "Evaluated =  20 % Time Left = 3.215436 s of 4.019345 s Par no = 93473 Density = 4.928588e+03 \n",
      "Evaluated =  21 % Time Left = 3.174936 s of 4.018957 s Par no = 77396 Density = 4.536089e+03 \n",
      "Evaluated =  22 % Time Left = 3.150167 s of 4.038727 s Par no = 13395 Density = 5.885054e+03 \n",
      "Evaluated =  23 % Time Left = 3.145587 s of 4.085230 s Par no = 88276 Density = 3.562794e+02 \n",
      "Evaluated =  24 % Time Left = 3.100196 s of 4.079258 s Par no = 25323 Density = 1.753299e+03 \n",
      "Evaluated =  25 % Time Left = 3.060550 s of 4.080788 s Par no = 503 Density = 7.744157e+02 \n",
      "Evaluated =  26 % Time Left = 3.021632 s of 4.083342 s Par no = 26939 Density = 3.609912e+03 \n",
      "Evaluated =  27 % Time Left = 3.031538 s of 4.152848 s Par no = 94705 Density = 4.453151e+03 \n",
      "Evaluated =  28 % Time Left = 3.030242 s of 4.208729 s Par no = 34708 Density = 5.855267e+03 \n",
      "Evaluated =  29 % Time Left = 2.991917 s of 4.214028 s Par no = 77508 Density = 3.229186e+02 \n",
      "Evaluated =  30 % Time Left = 2.945318 s of 4.207657 s Par no = 18607 Density = 3.243190e+02 \n",
      "Evaluated =  31 % Time Left = 2.890159 s of 4.188697 s Par no = 15523 Density = 1.890193e+03 \n",
      "Evaluated =  32 % Time Left = 2.825885 s of 4.155775 s Par no = 53268 Density = 2.691063e+03 \n",
      "Evaluated =  33 % Time Left = 2.830064 s of 4.224039 s Par no = 72363 Density = 5.067650e+03 \n",
      "Evaluated =  34 % Time Left = 2.810674 s of 4.258662 s Par no = 47515 Density = 1.136418e+03 \n",
      "Evaluated =  35 % Time Left = 2.800036 s of 4.307814 s Par no = 68189 Density = 1.862746e+03 \n",
      "Evaluated =  36 % Time Left = 2.865344 s of 4.477169 s Par no = 25255 Density = 3.688211e+03 \n",
      "Evaluated =  37 % Time Left = 2.909532 s of 4.618378 s Par no = 16748 Density = 5.913302e+03 \n",
      "Evaluated =  38 % Time Left = 2.947790 s of 4.754576 s Par no = 7193 Density = 2.036410e+03 \n",
      "Evaluated =  39 % Time Left = 2.981182 s of 4.887264 s Par no = 38849 Density = 6.743763e+03 \n",
      "Evaluated =  40 % Time Left = 3.043520 s of 5.072617 s Par no = 30384 Density = 1.875782e+03 \n",
      "Evaluated =  41 % Time Left = 3.069747 s of 5.203049 s Par no = 46959 Density = 3.567812e+03 \n",
      "Evaluated =  42 % Time Left = 3.099022 s of 5.343233 s Par no = 56543 Density = 6.140061e+03 \n",
      "Evaluated =  43 % Time Left = 3.077038 s of 5.398407 s Par no = 52370 Density = 3.521442e+03 \n",
      "Evaluated =  44 % Time Left = 3.052382 s of 5.450780 s Par no = 8234 Density = 4.922062e+02 \n",
      "Evaluated =  45 % Time Left = 3.013074 s of 5.478416 s Par no = 87635 Density = 4.073241e+03 \n",
      "Evaluated =  46 % Time Left = 2.972933 s of 5.505533 s Par no = 86040 Density = 3.175165e+03 \n",
      "Evaluated =  47 % Time Left = 2.928857 s of 5.526249 s Par no = 85547 Density = 1.919649e+03 \n",
      "Evaluated =  48 % Time Left = 2.898801 s of 5.574725 s Par no = 25489 Density = 1.690378e+03 \n",
      "Evaluated =  49 % Time Left = 2.841276 s of 5.571239 s Par no = 86034 Density = 3.937990e+03 \n",
      "Evaluated =  50 % Time Left = 2.774171 s of 5.548452 s Par no = 85145 Density = 8.562068e+02 \n",
      "Evaluated =  51 % Time Left = 2.699228 s of 5.508741 s Par no = 32688 Density = 3.323255e+03 \n",
      "Evaluated =  52 % Time Left = 2.624168 s of 5.467131 s Par no = 3097 Density = 7.907434e+01 \n",
      "Evaluated =  53 % Time Left = 2.549667 s of 5.424940 s Par no = 74545 Density = 3.187435e+03 \n",
      "Evaluated =  54 % Time Left = 2.481623 s of 5.394950 s Par no = 50904 Density = 6.638005e+02 \n",
      "Evaluated =  55 % Time Left = 2.425171 s of 5.389389 s Par no = 40866 Density = 2.666701e+03 \n",
      "Evaluated =  56 % Time Left = 2.358727 s of 5.360864 s Par no = 12592 Density = 8.091688e+02 \n",
      "Evaluated =  57 % Time Left = 2.296957 s of 5.341884 s Par no = 64405 Density = 4.489847e+03 \n",
      "Evaluated =  58 % Time Left = 2.232675 s of 5.316019 s Par no = 18121 Density = 2.688300e+03 \n",
      "Evaluated =  59 % Time Left = 2.171402 s of 5.296231 s Par no = 92550 Density = 2.560191e+03 \n",
      "Evaluated =  60 % Time Left = 2.110253 s of 5.275765 s Par no = 99534 Density = 3.451293e+02 \n",
      "Evaluated =  61 % Time Left = 2.053790 s of 5.266264 s Par no = 83369 Density = 2.640408e+03 \n",
      "Evaluated =  62 % Time Left = 1.992486 s of 5.243521 s Par no = 43353 Density = 2.210399e+03 \n",
      "Evaluated =  63 % Time Left = 1.928372 s of 5.211957 s Par no = 16443 Density = 4.045412e+03 \n",
      "Evaluated =  64 % Time Left = 1.880442 s of 5.223595 s Par no = 24417 Density = 3.214769e+03 \n",
      "Evaluated =  65 % Time Left = 1.854451 s of 5.298582 s Par no = 4601 Density = 1.759577e+02 \n",
      "Evaluated =  66 % Time Left = 1.855248 s of 5.456771 s Par no = 52706 Density = 3.925634e+03 \n",
      "Evaluated =  67 % Time Left = 1.829658 s of 5.544585 s Par no = 29942 Density = 3.988977e+03 \n",
      "Evaluated =  68 % Time Left = 1.784829 s of 5.577765 s Par no = 14833 Density = 1.484978e+02 \n",
      "Evaluated =  69 % Time Left = 1.727201 s of 5.571797 s Par no = 67635 Density = 1.187772e+03 \n",
      "Evaluated =  70 % Time Left = 1.665648 s of 5.552346 s Par no = 38557 Density = 3.477950e+02 \n",
      "Evaluated =  71 % Time Left = 1.610031 s of 5.552021 s Par no = 20306 Density = 2.442058e+03 \n",
      "Evaluated =  72 % Time Left = 1.548416 s of 5.530256 s Par no = 22447 Density = 3.536389e+03 \n",
      "Evaluated =  73 % Time Left = 1.488683 s of 5.513845 s Par no = 27125 Density = 2.733925e+03 \n",
      "Evaluated =  74 % Time Left = 1.432260 s of 5.508903 s Par no = 8070 Density = 1.306825e+03 \n",
      "Evaluated =  75 % Time Left = 1.377700 s of 5.511021 s Par no = 40440 Density = 1.096645e+02 \n",
      "Evaluated =  76 % Time Left = 1.325006 s of 5.521088 s Par no = 75580 Density = 2.048249e+03 \n",
      "Evaluated =  77 % Time Left = 1.264861 s of 5.499634 s Par no = 52437 Density = 1.994058e+02 \n",
      "Evaluated =  78 % Time Left = 1.203736 s of 5.471776 s Par no = 38412 Density = 7.606449e+02 \n",
      "Evaluated =  79 % Time Left = 1.143619 s of 5.446063 s Par no = 14131 Density = 2.132229e+03 \n",
      "Evaluated =  80 % Time Left = 1.086400 s of 5.432271 s Par no = 95456 Density = 1.957974e+03 \n",
      "Evaluated =  81 % Time Left = 1.033609 s of 5.440335 s Par no = 47991 Density = 8.483278e+01 \n",
      "Evaluated =  82 % Time Left = 0.981224 s of 5.451546 s Par no = 59634 Density = 2.501897e+03 \n"
     ]
    },
    {
     "name": "stdout",
     "output_type": "stream",
     "text": [
      "Evaluated =  83 % Time Left = 0.923812 s of 5.434511 s Par no = 44778 Density = 4.294742e+02 \n",
      "Evaluated =  84 % Time Left = 0.866533 s of 5.416167 s Par no = 98110 Density = 7.364402e+02 \n",
      "Evaluated =  85 % Time Left = 0.810903 s of 5.406380 s Par no = 74053 Density = 2.257782e+01 \n",
      "Evaluated =  86 % Time Left = 0.755951 s of 5.400035 s Par no = 34171 Density = 5.103590e+02 \n",
      "Evaluated =  87 % Time Left = 0.700364 s of 5.387833 s Par no = 54020 Density = 3.101062e+02 \n",
      "Evaluated =  88 % Time Left = 0.644121 s of 5.368126 s Par no = 43226 Density = 9.248559e+02 \n",
      "Evaluated =  89 % Time Left = 0.589197 s of 5.356819 s Par no = 55559 Density = 2.770789e+03 \n",
      "Evaluated =  90 % Time Left = 0.536092 s of 5.361458 s Par no = 15481 Density = 3.529532e+03 \n",
      "Evaluated =  91 % Time Left = 0.481523 s of 5.350854 s Par no = 21372 Density = 1.401935e+03 \n",
      "Evaluated =  92 % Time Left = 0.426805 s of 5.335727 s Par no = 11843 Density = 6.591166e+02 \n",
      "Evaluated =  93 % Time Left = 0.375597 s of 5.366432 s Par no = 11892 Density = 2.483521e+03 \n",
      "Evaluated =  94 % Time Left = 0.322859 s of 5.381881 s Par no = 37642 Density = 3.410811e+03 \n",
      "Evaluated =  95 % Time Left = 0.269625 s of 5.393581 s Par no = 16880 Density = 9.559255e+02 \n",
      "Evaluated =  96 % Time Left = 0.215587 s of 5.391027 s Par no = 40323 Density = 4.754015e+02 \n",
      "Evaluated =  97 % Time Left = 0.162057 s of 5.403693 s Par no = 11088 Density = 1.846312e+03 \n",
      "Evaluated =  98 % Time Left = 0.108511 s of 5.428247 s Par no = 30179 Density = 2.907908e+03 \n",
      "Evaluated =  99 % Time Left = 0.054590 s of 5.464444 s Par no = 87553 Density = 4.336827e+03 \n",
      "Evaluated = 100 % Time Left = -0.000055 s of 5.466349 s Par no = 83538 Density = 2.349067e-01 \n",
      "\n",
      "Total Smoothing Time = 5.46642 s\n",
      "1 3\n",
      "\n",
      "writing snapshot file ....\n",
      "to_enbid_d3n64.est\n",
      "done with snapshot.\n",
      "\n",
      "Total Time = 6.61303 s \n",
      "\n"
     ]
    }
   ],
   "source": [
    "name='demo'\n",
    "rho = EnBiD.enbid(points, name=name)"
   ]
  },
  {
   "cell_type": "markdown",
   "id": "70666010",
   "metadata": {},
   "source": [
    "Show result"
   ]
  },
  {
   "cell_type": "code",
   "execution_count": 5,
   "id": "cf4db07a",
   "metadata": {},
   "outputs": [
    {
     "name": "stdout",
     "output_type": "stream",
     "text": [
      "[1437.54   428.208 1259.03  ... 2523.    2818.3   2067.12 ]\n"
     ]
    }
   ],
   "source": [
    "print(rho)"
   ]
  }
 ],
 "metadata": {
  "kernelspec": {
   "display_name": "Python 3 (ipykernel)",
   "language": "python",
   "name": "python3"
  },
  "language_info": {
   "codemirror_mode": {
    "name": "ipython",
    "version": 3
   },
   "file_extension": ".py",
   "mimetype": "text/x-python",
   "name": "python",
   "nbconvert_exporter": "python",
   "pygments_lexer": "ipython3",
   "version": "3.8.10"
  }
 },
 "nbformat": 4,
 "nbformat_minor": 5
}
