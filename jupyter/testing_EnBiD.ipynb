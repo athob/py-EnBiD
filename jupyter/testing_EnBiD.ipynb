{
 "cells": [
  {
   "cell_type": "code",
   "execution_count": 1,
   "id": "f130bf6c",
   "metadata": {},
   "outputs": [
    {
     "data": {
      "text/plain": [
       "'0.1.3b2.dev2'"
      ]
     },
     "execution_count": 1,
     "metadata": {},
     "output_type": "execute_result"
    }
   ],
   "source": [
    "import numpy as np\n",
    "import EnBiD_ananke\n",
    "EnBiD_ananke.__version__"
   ]
  },
  {
   "cell_type": "markdown",
   "id": "a8026efc",
   "metadata": {},
   "source": [
    "Creating mock coordinates"
   ]
  },
  {
   "cell_type": "code",
   "execution_count": 2,
   "id": "3a74890b",
   "metadata": {},
   "outputs": [],
   "source": [
    "np.random.seed(0)\n",
    "points = np.random.randn(100000, 3)"
   ]
  },
  {
   "cell_type": "markdown",
   "id": "d0809afe",
   "metadata": {},
   "source": [
    "Test enbid"
   ]
  },
  {
   "cell_type": "code",
   "execution_count": 3,
   "id": "fa0e3b78",
   "metadata": {},
   "outputs": [
    {
     "name": "stdout",
     "output_type": "stream",
     "text": [
      "Dimensions = 3\n",
      "Normalization constant of Kernel type 3: 0.596831\n",
      "Reading ASCII format file: to_enbid \n",
      "Read 300000 records\n",
      "Allocated 3.8147 MByte for particle storage.\n",
      "Type = 1 Particles = 100000\n",
      "Total particles = 100000\n",
      "Allocated 22.1252 MByte for Binary-Tree and Entropy bins.\n",
      "\n",
      "Scaling Co-ordinates as x[i]=x[i]/h[i] with h[i]->\n",
      "1 1 1 \n",
      "\n",
      "Starting to Build Tree .......\n",
      "Particle Type = 1 First node number = 1\n",
      "                  Last node number  = 199999\n",
      "Total number of nodes = 199999\n",
      "Treebuild time = 0.076556 s \n",
      "\n",
      "Density Calculation. Smoothing .....\n",
      "Evaluated =   1 % Time Left = 0.573897 s of 0.579700 s Par no = 15331 Density = 2.822111e+03 \n",
      "Evaluated =   2 % Time Left = 0.580546 s of 0.592400 s Par no = 77799 Density = 1.442662e+03 \n",
      "Evaluated =   3 % Time Left = 0.570516 s of 0.588167 s Par no = 20716 Density = 1.347107e+03 \n",
      "Evaluated =   4 % Time Left = 0.568578 s of 0.592275 s Par no = 36598 Density = 1.518448e+03 \n",
      "Evaluated =   5 % Time Left = 0.571894 s of 0.602000 s Par no = 54783 Density = 1.418503e+03 \n",
      "Evaluated =   6 % Time Left = 0.588528 s of 0.626100 s Par no = 18231 Density = 5.910374e+03 \n",
      "Evaluated =   7 % Time Left = 0.582134 s of 0.625957 s Par no = 77863 Density = 3.802778e+03 \n",
      "Evaluated =   8 % Time Left = 0.573476 s of 0.623350 s Par no = 29694 Density = 3.112394e+03 \n",
      "Evaluated =   9 % Time Left = 0.566722 s of 0.622778 s Par no = 49839 Density = 6.421483e+02 \n",
      "Evaluated =  10 % Time Left = 0.556788 s of 0.618660 s Par no = 63429 Density = 4.052199e+03 \n",
      "Evaluated =  11 % Time Left = 0.547845 s of 0.615564 s Par no = 34096 Density = 2.971922e+03 \n",
      "Evaluated =  12 % Time Left = 0.540571 s of 0.614292 s Par no = 73880 Density = 1.911730e+03 \n",
      "Evaluated =  13 % Time Left = 0.532983 s of 0.612631 s Par no = 59488 Density = 3.942927e+03 \n",
      "Evaluated =  14 % Time Left = 0.531265 s of 0.617757 s Par no = 17747 Density = 4.903259e+03 \n",
      "Evaluated =  15 % Time Left = 0.528512 s of 0.621787 s Par no = 50409 Density = 7.975875e+02 \n",
      "Evaluated =  16 % Time Left = 0.521634 s of 0.621000 s Par no = 66709 Density = 3.939722e+03 \n",
      "Evaluated =  17 % Time Left = 0.516141 s of 0.621865 s Par no = 58854 Density = 7.299768e+02 \n",
      "Evaluated =  18 % Time Left = 0.512512 s of 0.625022 s Par no = 6149 Density = 3.353193e+03 \n",
      "Evaluated =  19 % Time Left = 0.512204 s of 0.632358 s Par no = 13280 Density = 3.527213e+03 \n",
      "Evaluated =  20 % Time Left = 0.506590 s of 0.633245 s Par no = 77854 Density = 7.278303e+03 \n",
      "Evaluated =  21 % Time Left = 0.499563 s of 0.632367 s Par no = 84128 Density = 4.000489e+03 \n",
      "Evaluated =  22 % Time Left = 0.496074 s of 0.636000 s Par no = 12510 Density = 2.366131e+03 \n",
      "Evaluated =  23 % Time Left = 0.488914 s of 0.634961 s Par no = 38046 Density = 2.401039e+03 \n",
      "Evaluated =  24 % Time Left = 0.483056 s of 0.635608 s Par no = 76317 Density = 2.604788e+03 \n",
      "Evaluated =  25 % Time Left = 0.474879 s of 0.633180 s Par no = 55671 Density = 2.979146e+03 \n",
      "Evaluated =  26 % Time Left = 0.469225 s of 0.634096 s Par no = 24840 Density = 3.602203e+03 \n",
      "Evaluated =  27 % Time Left = 0.463663 s of 0.635163 s Par no = 34979 Density = 1.324684e+03 \n",
      "Evaluated =  28 % Time Left = 0.454903 s of 0.631818 s Par no = 17339 Density = 1.698872e+03 \n",
      "Evaluated =  29 % Time Left = 0.448322 s of 0.631448 s Par no = 59059 Density = 3.364317e+03 \n",
      "Evaluated =  30 % Time Left = 0.442790 s of 0.632567 s Par no = 48861 Density = 4.071747e+02 \n",
      "Evaluated =  31 % Time Left = 0.435942 s of 0.631810 s Par no = 34025 Density = 2.219551e+03 \n",
      "Evaluated =  32 % Time Left = 0.430410 s of 0.632966 s Par no = 92378 Density = 2.220241e+03 \n",
      "Evaluated =  33 % Time Left = 0.425273 s of 0.634745 s Par no = 14610 Density = 2.642163e+03 \n",
      "Evaluated =  34 % Time Left = 0.421041 s of 0.637950 s Par no = 79246 Density = 2.082532e+03 \n",
      "Evaluated =  35 % Time Left = 0.414764 s of 0.638109 s Par no = 2398 Density = 3.694222e+03 \n",
      "Evaluated =  36 % Time Left = 0.410898 s of 0.642039 s Par no = 24906 Density = 3.338249e+03 \n",
      "Evaluated =  37 % Time Left = 0.403507 s of 0.640497 s Par no = 64780 Density = 2.756157e+02 \n",
      "Evaluated =  38 % Time Left = 0.396107 s of 0.638892 s Par no = 56355 Density = 5.440238e+03 \n",
      "Evaluated =  39 % Time Left = 0.389901 s of 0.639192 s Par no = 75129 Density = 1.397896e+03 \n",
      "Evaluated =  40 % Time Left = 0.382530 s of 0.637560 s Par no = 37669 Density = 2.296944e+02 \n",
      "Evaluated =  41 % Time Left = 0.375293 s of 0.636100 s Par no = 44245 Density = 1.726854e+02 \n",
      "Evaluated =  42 % Time Left = 0.369115 s of 0.636417 s Par no = 51931 Density = 4.815193e+03 \n",
      "Evaluated =  43 % Time Left = 0.363328 s of 0.637428 s Par no = 43963 Density = 3.715361e+03 \n",
      "Evaluated =  44 % Time Left = 0.357043 s of 0.637589 s Par no = 56586 Density = 4.460856e+03 \n",
      "Evaluated =  45 % Time Left = 0.354086 s of 0.643804 s Par no = 3177 Density = 4.708334e+02 \n",
      "Evaluated =  46 % Time Left = 0.347519 s of 0.643565 s Par no = 16436 Density = 3.666953e+03 \n",
      "Evaluated =  47 % Time Left = 0.341635 s of 0.644606 s Par no = 27577 Density = 1.474241e+03 \n",
      "Evaluated =  48 % Time Left = 0.336041 s of 0.646246 s Par no = 76070 Density = 1.748841e+03 \n",
      "Evaluated =  49 % Time Left = 0.331555 s of 0.650120 s Par no = 5116 Density = 3.177198e+03 \n",
      "Evaluated =  50 % Time Left = 0.326611 s of 0.653236 s Par no = 36593 Density = 3.739479e+03 \n",
      "Evaluated =  51 % Time Left = 0.319677 s of 0.652416 s Par no = 10533 Density = 4.443296e+03 \n",
      "Evaluated =  52 % Time Left = 0.314314 s of 0.654835 s Par no = 64236 Density = 1.314060e+03 \n",
      "Evaluated =  53 % Time Left = 0.307679 s of 0.654649 s Par no = 31107 Density = 4.358351e+03 \n",
      "Evaluated =  54 % Time Left = 0.301097 s of 0.654572 s Par no = 37390 Density = 8.293836e+02 \n",
      "Evaluated =  55 % Time Left = 0.293804 s of 0.652913 s Par no = 44193 Density = 6.911039e+02 \n",
      "Evaluated =  56 % Time Left = 0.287490 s of 0.653402 s Par no = 73564 Density = 1.592207e+03 \n",
      "Evaluated =  57 % Time Left = 0.280968 s of 0.653428 s Par no = 84805 Density = 3.435408e+03 \n",
      "Evaluated =  58 % Time Left = 0.274909 s of 0.654560 s Par no = 70836 Density = 1.086561e+03 \n",
      "Evaluated =  59 % Time Left = 0.268369 s of 0.654575 s Par no = 21538 Density = 9.843017e+02 \n",
      "Evaluated =  60 % Time Left = 0.262182 s of 0.655472 s Par no = 26397 Density = 2.703689e+03 \n",
      "Evaluated =  61 % Time Left = 0.257257 s of 0.659651 s Par no = 59479 Density = 4.639280e+03 \n",
      "Evaluated =  62 % Time Left = 0.251307 s of 0.661352 s Par no = 73940 Density = 6.484902e+03 \n",
      "Evaluated =  63 % Time Left = 0.244949 s of 0.662043 s Par no = 81529 Density = 5.558739e+02 \n",
      "Evaluated =  64 % Time Left = 0.237877 s of 0.660789 s Par no = 83734 Density = 3.109286e+03 \n",
      "Evaluated =  65 % Time Left = 0.230782 s of 0.659395 s Par no = 36656 Density = 1.391414e+03 \n",
      "Evaluated =  66 % Time Left = 0.223902 s of 0.658555 s Par no = 57321 Density = 3.723538e+02 \n",
      "Evaluated =  67 % Time Left = 0.217126 s of 0.657976 s Par no = 35213 Density = 3.780156e+03 \n",
      "Evaluated =  68 % Time Left = 0.211211 s of 0.660054 s Par no = 65080 Density = 1.219758e+03 \n",
      "Evaluated =  69 % Time Left = 0.204341 s of 0.659187 s Par no = 16606 Density = 2.603137e+02 \n",
      "Evaluated =  70 % Time Left = 0.197767 s of 0.659246 s Par no = 87732 Density = 1.023583e+03 \n",
      "Evaluated =  71 % Time Left = 0.191485 s of 0.660315 s Par no = 5640 Density = 5.597383e+02 \n",
      "Evaluated =  72 % Time Left = 0.185122 s of 0.661175 s Par no = 51991 Density = 2.662520e+03 \n",
      "Evaluated =  73 % Time Left = 0.178390 s of 0.660727 s Par no = 26385 Density = 4.305937e+01 \n",
      "Evaluated =  74 % Time Left = 0.171727 s of 0.660512 s Par no = 37310 Density = 3.993851e+03 \n",
      "Evaluated =  75 % Time Left = 0.164943 s of 0.659800 s Par no = 97131 Density = 1.369731e+03 \n",
      "Evaluated =  76 % Time Left = 0.158469 s of 0.660313 s Par no = 3103 Density = 2.436843e+03 \n",
      "Evaluated =  77 % Time Left = 0.151592 s of 0.659123 s Par no = 25522 Density = 1.605624e+03 \n",
      "Evaluated =  78 % Time Left = 0.144782 s of 0.658129 s Par no = 910 Density = 5.151483e+01 \n",
      "Evaluated =  79 % Time Left = 0.138026 s of 0.657297 s Par no = 35125 Density = 2.473162e+01 \n",
      "Evaluated =  80 % Time Left = 0.131265 s of 0.656358 s Par no = 37920 Density = 9.703310e+02 \n",
      "Evaluated =  81 % Time Left = 0.124552 s of 0.655573 s Par no = 24227 Density = 3.733124e+02 \n",
      "Evaluated =  82 % Time Left = 0.117905 s of 0.655065 s Par no = 45909 Density = 2.877809e+03 \n",
      "Evaluated =  83 % Time Left = 0.111411 s of 0.655400 s Par no = 51688 Density = 4.196748e+03 \n",
      "Evaluated =  84 % Time Left = 0.104869 s of 0.655475 s Par no = 95852 Density = 5.509703e+02 \n",
      "Evaluated =  85 % Time Left = 0.098345 s of 0.655676 s Par no = 39450 Density = 1.983139e+02 \n",
      "Evaluated =  86 % Time Left = 0.091926 s of 0.656658 s Par no = 8808 Density = 1.392768e+02 \n",
      "Evaluated =  87 % Time Left = 0.085536 s of 0.658017 s Par no = 57392 Density = 3.091543e+03 \n",
      "Evaluated =  88 % Time Left = 0.079048 s of 0.658786 s Par no = 83393 Density = 3.849348e+03 \n",
      "Evaluated =  89 % Time Left = 0.072578 s of 0.659861 s Par no = 68997 Density = 4.455536e+03 \n",
      "Evaluated =  90 % Time Left = 0.066005 s of 0.660120 s Par no = 79817 Density = 4.377665e+01 \n",
      "Evaluated =  91 % Time Left = 0.059371 s of 0.659747 s Par no = 83472 Density = 2.215261e+03 \n",
      "Evaluated =  92 % Time Left = 0.052873 s of 0.661000 s Par no = 24893 Density = 4.393429e+03 \n",
      "Evaluated =  93 % Time Left = 0.046312 s of 0.661690 s Par no = 64593 Density = 1.252936e+03 \n",
      "Evaluated =  94 % Time Left = 0.039735 s of 0.662361 s Par no = 11536 Density = 2.153480e+03 \n",
      "Evaluated =  95 % Time Left = 0.033167 s of 0.663467 s Par no = 37158 Density = 3.735359e+01 \n",
      "Evaluated =  96 % Time Left = 0.026511 s of 0.662940 s Par no = 43390 Density = 3.406644e+01 \n",
      "Evaluated =  97 % Time Left = 0.019890 s of 0.663221 s Par no = 10529 Density = 3.171351e+03 \n",
      "Evaluated =  98 % Time Left = 0.013298 s of 0.665218 s Par no = 7315 Density = 1.658222e+03 \n",
      "Evaluated =  99 % Time Left = 0.006660 s of 0.666668 s Par no = 32071 Density = 5.807275e+02 \n",
      "Evaluated = 100 % Time Left = -0.000007 s of 0.667810 s Par no = 35331 Density = 1.974778e+01 \n",
      "\n",
      "Total Smoothing Time = 0.66784 s\n",
      "1 3\n",
      "\n",
      "writing snapshot file ....\n",
      "to_enbid_d3n64.est\n",
      "done with snapshot.\n",
      "\n",
      "Total Time = 0.932907 s \n",
      "\n"
     ]
    }
   ],
   "source": [
    "name='demo'\n",
    "rho = EnBiD_ananke.enbid(points, name=name, caching=False, verbose=True)"
   ]
  },
  {
   "cell_type": "markdown",
   "id": "5b85b27e",
   "metadata": {},
   "source": [
    "Show result"
   ]
  },
  {
   "cell_type": "code",
   "execution_count": 4,
   "id": "cf4db07a",
   "metadata": {},
   "outputs": [
    {
     "name": "stdout",
     "output_type": "stream",
     "text": [
      "[ 654.357    71.6832 4765.37   ... 3993.97   4092.39    415.127 ]\n"
     ]
    }
   ],
   "source": [
    "print(rho)"
   ]
  }
 ],
 "metadata": {
  "kernelspec": {
   "display_name": "base",
   "language": "python",
   "name": "python3"
  },
  "language_info": {
   "codemirror_mode": {
    "name": "ipython",
    "version": 3
   },
   "file_extension": ".py",
   "mimetype": "text/x-python",
   "name": "python",
   "nbconvert_exporter": "python",
   "pygments_lexer": "ipython3",
   "version": "3.10.13"
  },
  "vscode": {
   "interpreter": {
    "hash": "93aa337d3be5595eae1049f286a1f242db5cd4d40fd613efbe29fb4c796799bf"
   }
  }
 },
 "nbformat": 4,
 "nbformat_minor": 5
}
