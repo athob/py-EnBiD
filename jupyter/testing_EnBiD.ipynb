{
 "cells": [
  {
   "cell_type": "code",
   "execution_count": 1,
   "id": "f130bf6c",
   "metadata": {},
   "outputs": [
    {
     "data": {
      "text/plain": [
       "'0.1.3b2.dev0'"
      ]
     },
     "execution_count": 1,
     "metadata": {},
     "output_type": "execute_result"
    }
   ],
   "source": [
    "import numpy as np\n",
    "import EnBiD_ananke\n",
    "EnBiD_ananke.__version__"
   ]
  },
  {
   "cell_type": "markdown",
   "id": "a8026efc",
   "metadata": {},
   "source": [
    "Creating mock coordinates"
   ]
  },
  {
   "cell_type": "code",
   "execution_count": 2,
   "id": "3a74890b",
   "metadata": {},
   "outputs": [],
   "source": [
    "np.random.seed(0)\n",
    "points = np.random.randn(100000, 3)"
   ]
  },
  {
   "cell_type": "markdown",
   "id": "d0809afe",
   "metadata": {},
   "source": [
    "Test enbid"
   ]
  },
  {
   "cell_type": "code",
   "execution_count": 3,
   "id": "fa0e3b78",
   "metadata": {},
   "outputs": [
    {
     "name": "stdout",
     "output_type": "stream",
     "text": [
      "Dimensions = 3\n",
      "Normalization constant of Kernel type 3: 0.596831\n",
      "Reading ASCII format file: to_enbid \n",
      "Read 300000 records\n",
      "Allocated 3.8147 MByte for particle storage.\n",
      "Type = 1 Particles = 100000\n",
      "Total particles = 100000\n",
      "Allocated 22.1252 MByte for Binary-Tree and Entropy bins.\n",
      "\n",
      "Scaling Co-ordinates as x[i]=x[i]/h[i] with h[i]->\n",
      "1 1 1 \n",
      "\n",
      "Starting to Build Tree .......\n",
      "Particle Type = 1 First node number = 1\n",
      "                  Last node number  = 199999\n",
      "Total number of nodes = 199999\n",
      "Treebuild time = 0.084727 s \n",
      "\n",
      "Density Calculation. Smoothing .....\n",
      "Evaluated =   1 % Time Left = 0.615477 s of 0.621700 s Par no = 15331 Density = 2.822111e+03 \n",
      "Evaluated =   2 % Time Left = 0.639345 s of 0.652400 s Par no = 77799 Density = 1.442662e+03 \n",
      "Evaluated =   3 % Time Left = 0.633306 s of 0.652900 s Par no = 20716 Density = 1.347107e+03 \n",
      "Evaluated =   4 % Time Left = 0.637625 s of 0.664200 s Par no = 36598 Density = 1.518448e+03 \n",
      "Evaluated =   5 % Time Left = 0.645746 s of 0.679740 s Par no = 54783 Density = 1.418503e+03 \n",
      "Evaluated =   6 % Time Left = 0.664213 s of 0.706617 s Par no = 18231 Density = 5.910374e+03 \n",
      "Evaluated =   7 % Time Left = 0.655324 s of 0.704657 s Par no = 77863 Density = 3.802778e+03 \n",
      "Evaluated =   8 % Time Left = 0.640417 s of 0.696113 s Par no = 29694 Density = 3.112394e+03 \n",
      "Evaluated =   9 % Time Left = 0.631058 s of 0.693478 s Par no = 49839 Density = 6.421483e+02 \n",
      "Evaluated =  10 % Time Left = 0.632918 s of 0.703250 s Par no = 63429 Density = 4.052199e+03 \n",
      "Evaluated =  11 % Time Left = 0.622330 s of 0.699255 s Par no = 34096 Density = 2.971922e+03 \n",
      "Evaluated =  12 % Time Left = 0.615370 s of 0.699292 s Par no = 73880 Density = 1.911730e+03 \n",
      "Evaluated =  13 % Time Left = 0.610693 s of 0.701954 s Par no = 59488 Density = 3.942927e+03 \n",
      "Evaluated =  14 % Time Left = 0.613296 s of 0.713143 s Par no = 17747 Density = 4.903259e+03 \n",
      "Evaluated =  15 % Time Left = 0.614084 s of 0.722460 s Par no = 50409 Density = 7.975875e+02 \n",
      "Evaluated =  16 % Time Left = 0.610337 s of 0.726600 s Par no = 66709 Density = 3.939722e+03 \n",
      "Evaluated =  17 % Time Left = 0.609091 s of 0.733853 s Par no = 58854 Density = 7.299768e+02 \n",
      "Evaluated =  18 % Time Left = 0.606260 s of 0.739350 s Par no = 6149 Density = 3.353193e+03 \n",
      "Evaluated =  19 % Time Left = 0.602901 s of 0.744332 s Par no = 13280 Density = 3.527213e+03 \n",
      "Evaluated =  20 % Time Left = 0.597197 s of 0.746505 s Par no = 77854 Density = 7.278303e+03 \n",
      "Evaluated =  21 % Time Left = 0.587294 s of 0.743419 s Par no = 84128 Density = 4.000489e+03 \n",
      "Evaluated =  22 % Time Left = 0.579135 s of 0.742491 s Par no = 12510 Density = 2.366131e+03 \n",
      "Evaluated =  23 % Time Left = 0.570904 s of 0.741443 s Par no = 38046 Density = 2.401039e+03 \n",
      "Evaluated =  24 % Time Left = 0.563400 s of 0.741325 s Par no = 76317 Density = 2.604788e+03 \n",
      "Evaluated =  25 % Time Left = 0.553289 s of 0.737728 s Par no = 55671 Density = 2.979146e+03 \n",
      "Evaluated =  26 % Time Left = 0.547132 s of 0.739377 s Par no = 24840 Density = 3.602203e+03 \n",
      "Evaluated =  27 % Time Left = 0.538089 s of 0.737119 s Par no = 34979 Density = 1.324684e+03 \n",
      "Evaluated =  28 % Time Left = 0.527262 s of 0.732318 s Par no = 17339 Density = 1.698872e+03 \n",
      "Evaluated =  29 % Time Left = 0.518072 s of 0.729690 s Par no = 59059 Density = 3.364317e+03 \n",
      "Evaluated =  30 % Time Left = 0.510547 s of 0.729363 s Par no = 48861 Density = 4.071747e+02 \n",
      "Evaluated =  31 % Time Left = 0.501574 s of 0.726929 s Par no = 34025 Density = 2.219551e+03 \n",
      "Evaluated =  32 % Time Left = 0.495864 s of 0.729222 s Par no = 92378 Density = 2.220241e+03 \n",
      "Evaluated =  33 % Time Left = 0.487765 s of 0.728018 s Par no = 14610 Density = 2.642163e+03 \n",
      "Evaluated =  34 % Time Left = 0.480523 s of 0.728076 s Par no = 79246 Density = 2.082532e+03 \n",
      "Evaluated =  35 % Time Left = 0.472801 s of 0.727397 s Par no = 2398 Density = 3.694222e+03 \n",
      "Evaluated =  36 % Time Left = 0.466128 s of 0.728336 s Par no = 24906 Density = 3.338249e+03 \n",
      "Evaluated =  37 % Time Left = 0.458335 s of 0.727527 s Par no = 64780 Density = 2.756157e+02 \n",
      "Evaluated =  38 % Time Left = 0.448922 s of 0.724079 s Par no = 56355 Density = 5.440238e+03 \n",
      "Evaluated =  39 % Time Left = 0.440550 s of 0.722226 s Par no = 75129 Density = 1.397896e+03 \n",
      "Evaluated =  40 % Time Left = 0.431829 s of 0.719728 s Par no = 37669 Density = 2.296944e+02 \n",
      "Evaluated =  41 % Time Left = 0.423941 s of 0.718556 s Par no = 44245 Density = 1.726854e+02 \n",
      "Evaluated =  42 % Time Left = 0.416738 s of 0.718526 s Par no = 51931 Density = 4.815193e+03 \n",
      "Evaluated =  43 % Time Left = 0.409513 s of 0.718456 s Par no = 43963 Density = 3.715361e+03 \n",
      "Evaluated =  44 % Time Left = 0.401934 s of 0.717752 s Par no = 56586 Density = 4.460856e+03 \n",
      "Evaluated =  45 % Time Left = 0.395776 s of 0.719607 s Par no = 3177 Density = 4.708334e+02 \n",
      "Evaluated =  46 % Time Left = 0.387844 s of 0.718243 s Par no = 16436 Density = 3.666953e+03 \n",
      "Evaluated =  47 % Time Left = 0.380386 s of 0.717723 s Par no = 27577 Density = 1.474241e+03 \n",
      "Evaluated =  48 % Time Left = 0.371493 s of 0.714423 s Par no = 76070 Density = 1.748841e+03 \n",
      "Evaluated =  49 % Time Left = 0.364698 s of 0.715108 s Par no = 5116 Density = 3.177198e+03 \n",
      "Evaluated =  50 % Time Left = 0.357642 s of 0.715298 s Par no = 36593 Density = 3.739479e+03 \n",
      "Evaluated =  51 % Time Left = 0.350042 s of 0.714386 s Par no = 10533 Density = 4.443296e+03 \n",
      "Evaluated =  52 % Time Left = 0.342476 s of 0.713506 s Par no = 64236 Density = 1.314060e+03 \n",
      "Evaluated =  53 % Time Left = 0.334949 s of 0.712674 s Par no = 31107 Density = 4.358351e+03 \n",
      "Evaluated =  54 % Time Left = 0.328142 s of 0.713369 s Par no = 37390 Density = 8.293836e+02 \n",
      "Evaluated =  55 % Time Left = 0.319908 s of 0.710922 s Par no = 44193 Density = 6.911039e+02 \n",
      "Evaluated =  56 % Time Left = 0.312926 s of 0.711213 s Par no = 73564 Density = 1.592207e+03 \n",
      "Evaluated =  57 % Time Left = 0.305572 s of 0.710649 s Par no = 84805 Density = 3.435408e+03 \n",
      "Evaluated =  58 % Time Left = 0.299078 s of 0.712107 s Par no = 70836 Density = 1.086561e+03 \n",
      "Evaluated =  59 % Time Left = 0.291601 s of 0.711239 s Par no = 21538 Density = 9.843017e+02 \n",
      "Evaluated =  60 % Time Left = 0.285135 s of 0.712855 s Par no = 26397 Density = 2.703689e+03 \n",
      "Evaluated =  61 % Time Left = 0.278528 s of 0.714193 s Par no = 59479 Density = 4.639280e+03 \n",
      "Evaluated =  62 % Time Left = 0.271302 s of 0.713973 s Par no = 73940 Density = 6.484902e+03 \n",
      "Evaluated =  63 % Time Left = 0.263932 s of 0.713349 s Par no = 81529 Density = 5.558739e+02 \n",
      "Evaluated =  64 % Time Left = 0.256202 s of 0.711692 s Par no = 83734 Density = 3.109286e+03 \n",
      "Evaluated =  65 % Time Left = 0.248387 s of 0.709697 s Par no = 36656 Density = 1.391414e+03 \n",
      "Evaluated =  66 % Time Left = 0.240869 s of 0.708459 s Par no = 57321 Density = 3.723538e+02 \n",
      "Evaluated =  67 % Time Left = 0.233269 s of 0.706897 s Par no = 35213 Density = 3.780156e+03 \n",
      "Evaluated =  68 % Time Left = 0.227004 s of 0.709409 s Par no = 65080 Density = 1.219758e+03 \n",
      "Evaluated =  69 % Time Left = 0.220578 s of 0.711565 s Par no = 16606 Density = 2.603137e+02 \n",
      "Evaluated =  70 % Time Left = 0.213205 s of 0.710706 s Par no = 87732 Density = 1.023583e+03 \n",
      "Evaluated =  71 % Time Left = 0.206337 s of 0.711532 s Par no = 5640 Density = 5.597383e+02 \n",
      "Evaluated =  72 % Time Left = 0.199475 s of 0.712436 s Par no = 51991 Density = 2.662520e+03 \n",
      "Evaluated =  73 % Time Left = 0.192169 s of 0.711762 s Par no = 26385 Density = 4.305937e+01 \n",
      "Evaluated =  74 % Time Left = 0.185026 s of 0.711666 s Par no = 37310 Density = 3.993851e+03 \n",
      "Evaluated =  75 % Time Left = 0.178198 s of 0.712820 s Par no = 97131 Density = 1.369731e+03 \n",
      "Evaluated =  76 % Time Left = 0.171208 s of 0.713397 s Par no = 3103 Density = 2.436843e+03 \n",
      "Evaluated =  77 % Time Left = 0.164651 s of 0.715905 s Par no = 25522 Density = 1.605624e+03 \n",
      "Evaluated =  78 % Time Left = 0.157565 s of 0.716237 s Par no = 910 Density = 5.151483e+01 \n",
      "Evaluated =  79 % Time Left = 0.150190 s of 0.715224 s Par no = 35125 Density = 2.473162e+01 \n",
      "Evaluated =  80 % Time Left = 0.143202 s of 0.716045 s Par no = 37920 Density = 9.703310e+02 \n",
      "Evaluated =  81 % Time Left = 0.136186 s of 0.716809 s Par no = 24227 Density = 3.733124e+02 \n",
      "Evaluated =  82 % Time Left = 0.128939 s of 0.716370 s Par no = 45909 Density = 2.877809e+03 \n",
      "Evaluated =  83 % Time Left = 0.122055 s of 0.718014 s Par no = 51688 Density = 4.196748e+03 \n",
      "Evaluated =  84 % Time Left = 0.114922 s of 0.718307 s Par no = 95852 Density = 5.509703e+02 \n",
      "Evaluated =  85 % Time Left = 0.107740 s of 0.718315 s Par no = 39450 Density = 1.983139e+02 \n",
      "Evaluated =  86 % Time Left = 0.100666 s of 0.719092 s Par no = 8808 Density = 1.392768e+02 \n",
      "Evaluated =  87 % Time Left = 0.093593 s of 0.720000 s Par no = 57392 Density = 3.091543e+03 \n",
      "Evaluated =  88 % Time Left = 0.086521 s of 0.721068 s Par no = 83393 Density = 3.849348e+03 \n",
      "Evaluated =  89 % Time Left = 0.079503 s of 0.722819 s Par no = 68997 Density = 4.455536e+03 \n",
      "Evaluated =  90 % Time Left = 0.072328 s of 0.723350 s Par no = 79817 Density = 4.377665e+01 \n",
      "Evaluated =  91 % Time Left = 0.065117 s of 0.723600 s Par no = 83472 Density = 2.215261e+03 \n",
      "Evaluated =  92 % Time Left = 0.057989 s of 0.724955 s Par no = 24893 Density = 4.393429e+03 \n",
      "Evaluated =  93 % Time Left = 0.050810 s of 0.725966 s Par no = 64593 Density = 1.252936e+03 \n",
      "Evaluated =  94 % Time Left = 0.043582 s of 0.726493 s Par no = 11536 Density = 2.153480e+03 \n",
      "Evaluated =  95 % Time Left = 0.036393 s of 0.728013 s Par no = 37158 Density = 3.735359e+01 \n",
      "Evaluated =  96 % Time Left = 0.029109 s of 0.727917 s Par no = 43390 Density = 3.406644e+01 \n",
      "Evaluated =  97 % Time Left = 0.021824 s of 0.727713 s Par no = 10529 Density = 3.171351e+03 \n",
      "Evaluated =  98 % Time Left = 0.014573 s of 0.729027 s Par no = 7315 Density = 1.658222e+03 \n",
      "Evaluated =  99 % Time Left = 0.007288 s of 0.729538 s Par no = 32071 Density = 5.807275e+02 \n",
      "Evaluated = 100 % Time Left = -0.000007 s of 0.730297 s Par no = 35331 Density = 1.974778e+01 \n",
      "\n",
      "Total Smoothing Time = 0.730363 s\n",
      "1 3\n",
      "\n",
      "writing snapshot file ....\n",
      "to_enbid_d3n64.est\n",
      "done with snapshot.\n",
      "\n",
      "Total Time = 1.01168 s \n",
      "\n"
     ]
    }
   ],
   "source": [
    "name='demo'\n",
    "rho = EnBiD_ananke.enbid(points, name=name)"
   ]
  },
  {
   "cell_type": "markdown",
   "id": "5b85b27e",
   "metadata": {},
   "source": [
    "Show result"
   ]
  },
  {
   "cell_type": "code",
   "execution_count": 4,
   "id": "cf4db07a",
   "metadata": {},
   "outputs": [
    {
     "name": "stdout",
     "output_type": "stream",
     "text": [
      "[ 654.357    71.6832 4765.37   ... 3993.97   4092.39    415.127 ]\n"
     ]
    }
   ],
   "source": [
    "print(rho)"
   ]
  }
 ],
 "metadata": {
  "kernelspec": {
   "display_name": "base",
   "language": "python",
   "name": "python3"
  },
  "language_info": {
   "codemirror_mode": {
    "name": "ipython",
    "version": 3
   },
   "file_extension": ".py",
   "mimetype": "text/x-python",
   "name": "python",
   "nbconvert_exporter": "python",
   "pygments_lexer": "ipython3",
   "version": "3.10.13"
  },
  "vscode": {
   "interpreter": {
    "hash": "93aa337d3be5595eae1049f286a1f242db5cd4d40fd613efbe29fb4c796799bf"
   }
  }
 },
 "nbformat": 4,
 "nbformat_minor": 5
}
