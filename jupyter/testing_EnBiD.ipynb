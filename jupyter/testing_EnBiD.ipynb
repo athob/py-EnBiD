{
 "cells": [
  {
   "cell_type": "code",
   "execution_count": 1,
   "id": "f130bf6c",
   "metadata": {},
   "outputs": [],
   "source": [
    "import numpy as np\n",
    "import EnBiD_ananke"
   ]
  },
  {
   "cell_type": "markdown",
   "id": "a8026efc",
   "metadata": {},
   "source": [
    "Creating mock coordinates"
   ]
  },
  {
   "cell_type": "code",
   "execution_count": 2,
   "id": "3a74890b",
   "metadata": {},
   "outputs": [],
   "source": [
    "np.random.seed(0)\n",
    "points = np.random.randn(100000, 3)"
   ]
  },
  {
   "cell_type": "markdown",
   "id": "d0809afe",
   "metadata": {},
   "source": [
    "Test enbid"
   ]
  },
  {
   "cell_type": "code",
   "execution_count": 3,
   "id": "fa0e3b78",
   "metadata": {},
   "outputs": [
    {
     "name": "stdout",
     "output_type": "stream",
     "text": [
      "Dimensions = 3\n",
      "Normalization constant of Kernel type 3: 0.596831\n",
      "Reading ASCII format file: to_enbid \n",
      "Read 300000 records\n",
      "Allocated 3.8147 MByte for particle storage.\n",
      "Type = 1 Particles = 100000\n",
      "Total particles = 100000\n",
      "Allocated 22.1252 MByte for Binary-Tree and Entropy bins.\n",
      "\n",
      "Scaling Co-ordinates as x[i]=x[i]/h[i] with h[i]->\n",
      "1 1 1 \n",
      "\n",
      "Starting to Build Tree .......\n",
      "Particle Type = 1 First node number = 1\n",
      "                  Last node number  = 199999\n",
      "Total number of nodes = 199999\n",
      "Treebuild time = 0.221995 s \n",
      "\n",
      "Density Calculation. Smoothing .....\n",
      "Evaluated =   1 % Time Left = 3.211924 s of 3.244400 s Par no = 86844 Density = 1.029941e+03 \n",
      "Evaluated =   2 % Time Left = 3.034441 s of 3.096400 s Par no = 20939 Density = 1.995389e+03 \n",
      "Evaluated =   3 % Time Left = 3.166565 s of 3.264533 s Par no = 81030 Density = 3.664046e+03 \n",
      "Evaluated =   4 % Time Left = 3.172239 s of 3.304450 s Par no = 11690 Density = 5.439372e+03 \n",
      "Evaluated =   5 % Time Left = 3.098829 s of 3.261960 s Par no = 31319 Density = 1.472812e+03 \n",
      "Evaluated =   6 % Time Left = 3.059887 s of 3.255233 s Par no = 34288 Density = 1.424378e+03 \n",
      "Evaluated =   7 % Time Left = 3.102765 s of 3.336343 s Par no = 85833 Density = 3.941447e+02 \n",
      "Evaluated =   8 % Time Left = 3.040613 s of 3.305050 s Par no = 76455 Density = 5.412773e+03 \n",
      "Evaluated =   9 % Time Left = 3.010227 s of 3.307978 s Par no = 49242 Density = 4.742501e+02 \n",
      "Evaluated =  10 % Time Left = 2.967195 s of 3.296920 s Par no = 22716 Density = 3.851124e+03 \n",
      "Evaluated =  11 % Time Left = 2.927298 s of 3.289136 s Par no = 19188 Density = 4.307049e+03 \n",
      "Evaluated =  12 % Time Left = 2.898819 s of 3.294150 s Par no = 52 Density = 3.567568e+03 \n",
      "Evaluated =  13 % Time Left = 2.856070 s of 3.282877 s Par no = 63721 Density = 4.843307e+03 \n",
      "Evaluated =  14 % Time Left = 2.839963 s of 3.302321 s Par no = 75 Density = 1.899559e+03 \n",
      "Evaluated =  15 % Time Left = 2.835510 s of 3.335933 s Par no = 43402 Density = 5.031913e+03 \n",
      "Evaluated =  16 % Time Left = 2.818460 s of 3.355350 s Par no = 47508 Density = 3.380040e+03 \n",
      "Evaluated =  17 % Time Left = 2.792623 s of 3.364647 s Par no = 36907 Density = 5.034003e+03 \n",
      "Evaluated =  18 % Time Left = 2.756073 s of 3.361106 s Par no = 80017 Density = 3.033291e+03 \n",
      "Evaluated =  19 % Time Left = 2.713935 s of 3.350579 s Par no = 41003 Density = 8.393145e+02 \n",
      "Evaluated =  20 % Time Left = 2.675455 s of 3.344360 s Par no = 98272 Density = 3.483060e+02 \n",
      "Evaluated =  21 % Time Left = 2.684108 s of 3.397648 s Par no = 53259 Density = 2.991102e+03 \n",
      "Evaluated =  22 % Time Left = 2.654806 s of 3.403641 s Par no = 74454 Density = 1.816116e+03 \n",
      "Evaluated =  23 % Time Left = 2.613185 s of 3.393791 s Par no = 63808 Density = 1.355206e+03 \n",
      "Evaluated =  24 % Time Left = 2.567712 s of 3.378613 s Par no = 39065 Density = 1.199678e+03 \n",
      "Evaluated =  25 % Time Left = 2.524319 s of 3.365804 s Par no = 32597 Density = 7.187642e+02 \n",
      "Evaluated =  26 % Time Left = 2.479479 s of 3.350692 s Par no = 28067 Density = 3.307556e+02 \n",
      "Evaluated =  27 % Time Left = 2.439229 s of 3.341456 s Par no = 34099 Density = 1.608292e+03 \n",
      "Evaluated =  28 % Time Left = 2.408590 s of 3.345311 s Par no = 46226 Density = 6.293389e+03 \n",
      "Evaluated =  29 % Time Left = 2.379010 s of 3.350766 s Par no = 11831 Density = 3.694890e+03 \n",
      "Evaluated =  30 % Time Left = 2.333806 s of 3.334057 s Par no = 62484 Density = 4.838138e+02 \n",
      "Evaluated =  31 % Time Left = 2.291352 s of 3.320848 s Par no = 21175 Density = 4.199658e+03 \n",
      "Evaluated =  32 % Time Left = 2.254813 s of 3.315950 s Par no = 96403 Density = 7.117496e+03 \n",
      "Evaluated =  33 % Time Left = 2.229505 s of 3.327670 s Par no = 5759 Density = 1.496830e+03 \n",
      "Evaluated =  34 % Time Left = 2.193605 s of 3.323694 s Par no = 68167 Density = 3.118302e+03 \n",
      "Evaluated =  35 % Time Left = 2.160899 s of 3.324511 s Par no = 114 Density = 9.707119e+02 \n",
      "Evaluated =  36 % Time Left = 2.137325 s of 3.339622 s Par no = 98666 Density = 4.778413e+03 \n",
      "Evaluated =  37 % Time Left = 2.105917 s of 3.342778 s Par no = 64572 Density = 4.634803e+02 \n",
      "Evaluated =  38 % Time Left = 2.072362 s of 3.342574 s Par no = 50642 Density = 2.603764e+03 \n",
      "Evaluated =  39 % Time Left = 2.072389 s of 3.397415 s Par no = 7807 Density = 5.423566e+03 \n",
      "Evaluated =  40 % Time Left = 2.054322 s of 3.423928 s Par no = 76585 Density = 8.845559e+02 \n",
      "Evaluated =  41 % Time Left = 2.015214 s of 3.415676 s Par no = 51861 Density = 2.520280e+02 \n",
      "Evaluated =  42 % Time Left = 1.977237 s of 3.409088 s Par no = 66498 Density = 3.085132e+02 \n",
      "Evaluated =  43 % Time Left = 1.941972 s of 3.407028 s Par no = 38635 Density = 6.203578e+03 \n",
      "Evaluated =  44 % Time Left = 1.911247 s of 3.413002 s Par no = 79235 Density = 2.662164e+03 \n",
      "Evaluated =  45 % Time Left = 1.875256 s of 3.409618 s Par no = 25175 Density = 7.602671e+03 \n",
      "Evaluated =  46 % Time Left = 1.844296 s of 3.415426 s Par no = 30278 Density = 3.305417e+03 \n",
      "Evaluated =  47 % Time Left = 1.806418 s of 3.408400 s Par no = 95428 Density = 1.879942e+03 \n",
      "Evaluated =  48 % Time Left = 1.770425 s of 3.404729 s Par no = 67738 Density = 8.295800e+02 \n",
      "Evaluated =  49 % Time Left = 1.732624 s of 3.397369 s Par no = 29989 Density = 3.967240e+02 \n",
      "Evaluated =  50 % Time Left = 1.697898 s of 3.395864 s Par no = 79712 Density = 3.466676e+03 \n",
      "Evaluated =  51 % Time Left = 1.664971 s of 3.397969 s Par no = 66181 Density = 3.989850e+03 \n",
      "Evaluated =  52 % Time Left = 1.637976 s of 3.412521 s Par no = 67353 Density = 2.619428e+03 \n",
      "Evaluated =  53 % Time Left = 1.615005 s of 3.436255 s Par no = 15620 Density = 1.938164e+03 \n",
      "Evaluated =  54 % Time Left = 1.579637 s of 3.434069 s Par no = 17685 Density = 1.198717e+03 \n",
      "Evaluated =  55 % Time Left = 1.547872 s of 3.439793 s Par no = 16368 Density = 3.219418e+03 \n",
      "Evaluated =  56 % Time Left = 1.515430 s of 3.444237 s Par no = 75686 Density = 3.462265e+01 \n",
      "Evaluated =  57 % Time Left = 1.477071 s of 3.435128 s Par no = 48581 Density = 2.504400e+03 \n",
      "Evaluated =  58 % Time Left = 1.442871 s of 3.435488 s Par no = 746 Density = 3.557354e+03 \n",
      "Evaluated =  59 % Time Left = 1.410879 s of 3.441253 s Par no = 67153 Density = 1.020523e+03 \n",
      "Evaluated =  60 % Time Left = 1.375909 s of 3.439858 s Par no = 88601 Density = 2.894773e+03 \n",
      "Evaluated =  61 % Time Left = 1.339133 s of 3.433762 s Par no = 87 Density = 7.671491e+02 \n",
      "Evaluated =  62 % Time Left = 1.301179 s of 3.424245 s Par no = 73791 Density = 1.735635e+03 \n",
      "Evaluated =  63 % Time Left = 1.262570 s of 3.412443 s Par no = 86738 Density = 2.697066e+02 \n",
      "Evaluated =  64 % Time Left = 1.226719 s of 3.407647 s Par no = 74619 Density = 1.541137e+03 \n",
      "Evaluated =  65 % Time Left = 1.191648 s of 3.404806 s Par no = 30000 Density = 8.795471e+02 \n",
      "Evaluated =  66 % Time Left = 1.157287 s of 3.403885 s Par no = 73060 Density = 1.780165e+03 \n",
      "Evaluated =  67 % Time Left = 1.121390 s of 3.398255 s Par no = 6287 Density = 4.606663e+02 \n",
      "Evaluated =  68 % Time Left = 1.086412 s of 3.395143 s Par no = 6658 Density = 1.863657e+03 \n",
      "Evaluated =  69 % Time Left = 1.049540 s of 3.385723 s Par no = 67911 Density = 8.288649e+02 \n",
      "Evaluated =  70 % Time Left = 1.014469 s of 3.381676 s Par no = 29168 Density = 4.281922e+02 \n",
      "Evaluated =  71 % Time Left = 0.978354 s of 3.373751 s Par no = 57442 Density = 5.078591e+03 \n",
      "Evaluated =  72 % Time Left = 0.946178 s of 3.379329 s Par no = 967 Density = 1.713123e+02 \n",
      "Evaluated =  73 % Time Left = 0.912382 s of 3.379316 s Par no = 36307 Density = 4.724195e+02 \n",
      "Evaluated =  74 % Time Left = 0.878341 s of 3.378365 s Par no = 73808 Density = 6.696946e+02 \n",
      "Evaluated =  75 % Time Left = 0.843271 s of 3.373219 s Par no = 247 Density = 2.229976e+03 \n",
      "Evaluated =  76 % Time Left = 0.808863 s of 3.370403 s Par no = 27926 Density = 2.040230e+03 \n",
      "Evaluated =  77 % Time Left = 0.773620 s of 3.363713 s Par no = 10509 Density = 2.180094e+03 \n",
      "Evaluated =  78 % Time Left = 0.739952 s of 3.363569 s Par no = 25902 Density = 2.449908e+02 \n",
      "Evaluated =  79 % Time Left = 0.707106 s of 3.367330 s Par no = 11311 Density = 1.062102e+03 \n",
      "Evaluated =  80 % Time Left = 0.673316 s of 3.366747 s Par no = 4235 Density = 1.034802e+03 \n",
      "Evaluated =  81 % Time Left = 0.639640 s of 3.366702 s Par no = 54624 Density = 2.609566e+03 \n",
      "Evaluated =  82 % Time Left = 0.605478 s of 3.363952 s Par no = 58551 Density = 2.687528e+03 \n",
      "Evaluated =  83 % Time Left = 0.571412 s of 3.361447 s Par no = 23165 Density = 1.151110e+03 \n",
      "Evaluated =  84 % Time Left = 0.538680 s of 3.366960 s Par no = 23899 Density = 4.815728e+03 \n",
      "Evaluated =  85 % Time Left = 0.504869 s of 3.366020 s Par no = 78574 Density = 4.288715e+02 \n",
      "Evaluated =  86 % Time Left = 0.472621 s of 3.376107 s Par no = 17314 Density = 1.409695e+02 \n",
      "Evaluated =  87 % Time Left = 0.439486 s of 3.380925 s Par no = 86665 Density = 1.146745e+03 \n",
      "Evaluated =  88 % Time Left = 0.405885 s of 3.382657 s Par no = 49076 Density = 5.833948e+02 \n",
      "Evaluated =  89 % Time Left = 0.372151 s of 3.383501 s Par no = 51605 Density = 1.436844e+03 \n",
      "Evaluated =  90 % Time Left = 0.337928 s of 3.379616 s Par no = 89842 Density = 3.824458e+03 \n",
      "Evaluated =  91 % Time Left = 0.304303 s of 3.381522 s Par no = 27682 Density = 2.519146e+02 \n",
      "Evaluated =  92 % Time Left = 0.271063 s of 3.388708 s Par no = 85423 Density = 2.037029e+03 \n",
      "Evaluated =  93 % Time Left = 0.237120 s of 3.387918 s Par no = 91360 Density = 4.901151e+03 \n",
      "Evaluated =  94 % Time Left = 0.203379 s of 3.390217 s Par no = 48458 Density = 4.739605e+03 \n",
      "Evaluated =  95 % Time Left = 0.169714 s of 3.394961 s Par no = 15177 Density = 8.284080e+02 \n",
      "Evaluated =  96 % Time Left = 0.135876 s of 3.397758 s Par no = 85214 Density = 3.715761e+03 \n",
      "Evaluated =  97 % Time Left = 0.102003 s of 3.401240 s Par no = 31342 Density = 1.302372e+02 \n",
      "Evaluated =  98 % Time Left = 0.068027 s of 3.403072 s Par no = 39412 Density = 1.649000e+03 \n",
      "Evaluated =  99 % Time Left = 0.034027 s of 3.406109 s Par no = 13469 Density = 7.154352e+03 \n",
      "Evaluated = 100 % Time Left = -0.000034 s of 3.409127 s Par no = 13018 Density = 5.262710e+01 \n",
      "\n",
      "Total Smoothing Time = 3.40917 s\n",
      "1 3\n",
      "\n",
      "writing snapshot file ....\n",
      "to_enbid_d3n64.est\n",
      "done with snapshot.\n",
      "\n",
      "Total Time = 4.44321 s \n",
      "\n"
     ]
    }
   ],
   "source": [
    "name='demo'\n",
    "rho = EnBiD_ananke.enbid(points, name=name)"
   ]
  },
  {
   "cell_type": "markdown",
   "id": "5b85b27e",
   "metadata": {},
   "source": [
    "Show result"
   ]
  },
  {
   "cell_type": "code",
   "execution_count": 4,
   "id": "cf4db07a",
   "metadata": {},
   "outputs": [
    {
     "name": "stdout",
     "output_type": "stream",
     "text": [
      "[ 657.248    74.6801 4816.01   ... 4739.21   3921.71    430.199 ]\n"
     ]
    }
   ],
   "source": [
    "print(rho)"
   ]
  }
 ],
 "metadata": {
  "kernelspec": {
   "display_name": "base",
   "language": "python",
   "name": "python3"
  },
  "language_info": {
   "codemirror_mode": {
    "name": "ipython",
    "version": 3
   },
   "file_extension": ".py",
   "mimetype": "text/x-python",
   "name": "python",
   "nbconvert_exporter": "python",
   "pygments_lexer": "ipython3",
   "version": "3.10.9"
  },
  "vscode": {
   "interpreter": {
    "hash": "93aa337d3be5595eae1049f286a1f242db5cd4d40fd613efbe29fb4c796799bf"
   }
  }
 },
 "nbformat": 4,
 "nbformat_minor": 5
}
