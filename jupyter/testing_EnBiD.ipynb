{
 "cells": [
  {
   "cell_type": "code",
   "execution_count": 1,
   "id": "f130bf6c",
   "metadata": {},
   "outputs": [],
   "source": [
    "import numpy as np\n",
    "import EnBiD"
   ]
  },
  {
   "cell_type": "markdown",
   "id": "a8026efc",
   "metadata": {},
   "source": [
    "Creating mock coordinates"
   ]
  },
  {
   "cell_type": "code",
   "execution_count": 2,
   "id": "3a74890b",
   "metadata": {},
   "outputs": [],
   "source": [
    "np.random.seed(0)\n",
    "points = np.random.randn(100000, 3)"
   ]
  },
  {
   "cell_type": "markdown",
   "id": "d0809afe",
   "metadata": {},
   "source": [
    "Test enbid"
   ]
  },
  {
   "cell_type": "code",
   "execution_count": 3,
   "id": "fa0e3b78",
   "metadata": {},
   "outputs": [
    {
     "name": "stdout",
     "output_type": "stream",
     "text": [
      "Dimensions = 3\n",
      "Normalization constant of Kernel type 3: 0.596831\n",
      "Reading ASCII format file: to_enbid \n",
      "Read 300000 records\n",
      "Allocated 3.8147 MByte for particle storage.\n",
      "Type = 1 Particles = 100000\n",
      "Total particles = 100000\n",
      "Allocated 22.1252 MByte for Binary-Tree and Entropy bins.\n",
      "\n",
      "Scaling Co-ordinates as x[i]=x[i]/h[i] with h[i]->\n",
      "1 1 1 \n",
      "\n",
      "Starting to Build Tree .......\n",
      "Particle Type = 1 First node number = 1\n",
      "                  Last node number  = 199999\n",
      "Total number of nodes = 199999\n",
      "Treebuild time = 0.266242 s \n",
      "\n",
      "Density Calculation. Smoothing .....\n",
      "Evaluated =   1 % Time Left = 4.575437 s of 4.621700 s Par no = 86844 Density = 1.029941e+03 \n",
      "Evaluated =   2 % Time Left = 3.818629 s of 3.896600 s Par no = 20939 Density = 1.995389e+03 \n",
      "Evaluated =   3 % Time Left = 4.092194 s of 4.218800 s Par no = 81030 Density = 3.664046e+03 \n",
      "Evaluated =   4 % Time Left = 3.977575 s of 4.143350 s Par no = 11690 Density = 5.439372e+03 \n",
      "Evaluated =   5 % Time Left = 4.080834 s of 4.295660 s Par no = 31319 Density = 1.472812e+03 \n",
      "Evaluated =   6 % Time Left = 4.109605 s of 4.371967 s Par no = 34288 Density = 1.424378e+03 \n",
      "Evaluated =   7 % Time Left = 4.126445 s of 4.437086 s Par no = 85833 Density = 3.941447e+02 \n",
      "Evaluated =   8 % Time Left = 3.964294 s of 4.309062 s Par no = 76455 Density = 5.412773e+03 \n",
      "Evaluated =   9 % Time Left = 3.946111 s of 4.336433 s Par no = 49242 Density = 4.742501e+02 \n",
      "Evaluated =  10 % Time Left = 3.863279 s of 4.292580 s Par no = 22716 Density = 3.851124e+03 \n",
      "Evaluated =  11 % Time Left = 3.841658 s of 4.316518 s Par no = 19188 Density = 4.307049e+03 \n",
      "Evaluated =  12 % Time Left = 3.910280 s of 4.443550 s Par no = 52 Density = 3.567568e+03 \n",
      "Evaluated =  13 % Time Left = 3.872138 s of 4.450785 s Par no = 63721 Density = 4.843307e+03 \n",
      "Evaluated =  14 % Time Left = 3.862651 s of 4.491507 s Par no = 75 Density = 1.899559e+03 \n",
      "Evaluated =  15 % Time Left = 3.984759 s of 4.688007 s Par no = 43402 Density = 5.031913e+03 \n",
      "Evaluated =  16 % Time Left = 4.183780 s of 4.980750 s Par no = 47508 Density = 3.380040e+03 \n",
      "Evaluated =  17 % Time Left = 4.134942 s of 4.981918 s Par no = 36907 Density = 5.034003e+03 \n",
      "Evaluated =  18 % Time Left = 4.050049 s of 4.939144 s Par no = 80017 Density = 3.033291e+03 \n",
      "Evaluated =  19 % Time Left = 3.967267 s of 4.897921 s Par no = 41003 Density = 8.393145e+02 \n",
      "Evaluated =  20 % Time Left = 3.870304 s of 4.837940 s Par no = 98272 Density = 3.483060e+02 \n",
      "Evaluated =  21 % Time Left = 3.818458 s of 4.833552 s Par no = 53259 Density = 2.991102e+03 \n",
      "Evaluated =  22 % Time Left = 3.729707 s of 4.781736 s Par no = 74454 Density = 1.816116e+03 \n",
      "Evaluated =  23 % Time Left = 3.638487 s of 4.725370 s Par no = 63808 Density = 1.355206e+03 \n",
      "Evaluated =  24 % Time Left = 3.544495 s of 4.663871 s Par no = 39065 Density = 1.199678e+03 \n",
      "Evaluated =  25 % Time Left = 3.497287 s of 4.663112 s Par no = 32597 Density = 7.187642e+02 \n",
      "Evaluated =  26 % Time Left = 3.444756 s of 4.655138 s Par no = 28067 Density = 3.307556e+02 \n",
      "Evaluated =  27 % Time Left = 3.377896 s of 4.627319 s Par no = 34099 Density = 1.608292e+03 \n",
      "Evaluated =  28 % Time Left = 3.310560 s of 4.598064 s Par no = 46226 Density = 6.293389e+03 \n",
      "Evaluated =  29 % Time Left = 3.248253 s of 4.575069 s Par no = 11831 Density = 3.694890e+03 \n",
      "Evaluated =  30 % Time Left = 3.180489 s of 4.543620 s Par no = 62484 Density = 4.838138e+02 \n",
      "Evaluated =  31 % Time Left = 3.130749 s of 4.537384 s Par no = 21175 Density = 4.199658e+03 \n",
      "Evaluated =  32 % Time Left = 3.088882 s of 4.542541 s Par no = 96403 Density = 7.117496e+03 \n",
      "Evaluated =  33 % Time Left = 3.067994 s of 4.579164 s Par no = 5759 Density = 1.496830e+03 \n",
      "Evaluated =  34 % Time Left = 3.014613 s of 4.567665 s Par no = 68167 Density = 3.118302e+03 \n",
      "Evaluated =  35 % Time Left = 2.958985 s of 4.552354 s Par no = 114 Density = 9.707119e+02 \n",
      "Evaluated =  36 % Time Left = 2.928868 s of 4.576428 s Par no = 98666 Density = 4.778413e+03 \n",
      "Evaluated =  37 % Time Left = 2.884331 s of 4.578376 s Par no = 64572 Density = 4.634803e+02 \n",
      "Evaluated =  38 % Time Left = 2.829566 s of 4.563889 s Par no = 50642 Density = 2.603764e+03 \n",
      "Evaluated =  39 % Time Left = 2.775900 s of 4.550731 s Par no = 7807 Density = 5.423566e+03 \n",
      "Evaluated =  40 % Time Left = 2.714545 s of 4.524318 s Par no = 76585 Density = 8.845559e+02 \n",
      "Evaluated =  41 % Time Left = 2.661822 s of 4.511639 s Par no = 51861 Density = 2.520280e+02 \n",
      "Evaluated =  42 % Time Left = 2.642711 s of 4.556476 s Par no = 66498 Density = 3.085132e+02 \n",
      "Evaluated =  43 % Time Left = 2.627252 s of 4.609295 s Par no = 38635 Density = 6.203578e+03 \n",
      "Evaluated =  44 % Time Left = 2.606634 s of 4.654786 s Par no = 79235 Density = 2.662164e+03 \n",
      "Evaluated =  45 % Time Left = 2.587734 s of 4.705056 s Par no = 25175 Density = 7.602671e+03 \n",
      "Evaluated =  46 % Time Left = 2.553988 s of 4.729696 s Par no = 30278 Density = 3.305417e+03 \n",
      "Evaluated =  47 % Time Left = 2.498999 s of 4.715181 s Par no = 95428 Density = 1.879942e+03 \n",
      "Evaluated =  48 % Time Left = 2.439633 s of 4.691692 s Par no = 67738 Density = 8.295800e+02 \n",
      "Evaluated =  49 % Time Left = 2.386241 s of 4.678996 s Par no = 29989 Density = 3.967240e+02 \n",
      "Evaluated =  50 % Time Left = 2.334641 s of 4.669376 s Par no = 79712 Density = 3.466676e+03 \n",
      "Evaluated =  51 % Time Left = 2.288969 s of 4.671461 s Par no = 66181 Density = 3.989850e+03 \n",
      "Evaluated =  52 % Time Left = 2.246921 s of 4.681183 s Par no = 67353 Density = 2.619428e+03 \n",
      "Evaluated =  53 % Time Left = 2.194299 s of 4.668821 s Par no = 15620 Density = 1.938164e+03 \n",
      "Evaluated =  54 % Time Left = 2.139198 s of 4.650531 s Par no = 17685 Density = 1.198717e+03 \n",
      "Evaluated =  55 % Time Left = 2.092409 s of 4.649902 s Par no = 16368 Density = 3.219418e+03 \n",
      "Evaluated =  56 % Time Left = 2.050680 s of 4.660743 s Par no = 75686 Density = 3.462265e+01 \n",
      "Evaluated =  57 % Time Left = 2.001523 s of 4.654814 s Par no = 48581 Density = 2.504400e+03 \n",
      "Evaluated =  58 % Time Left = 1.950122 s of 4.643259 s Par no = 746 Density = 3.557354e+03 \n",
      "Evaluated =  59 % Time Left = 1.906797 s of 4.650837 s Par no = 67153 Density = 1.020523e+03 \n",
      "Evaluated =  60 % Time Left = 1.878780 s of 4.697067 s Par no = 88601 Density = 2.894773e+03 \n",
      "Evaluated =  61 % Time Left = 1.851616 s of 4.747856 s Par no = 87 Density = 7.671491e+02 \n",
      "Evaluated =  62 % Time Left = 1.809710 s of 4.762519 s Par no = 73791 Density = 1.735635e+03 \n",
      "Evaluated =  63 % Time Left = 1.754007 s of 4.740687 s Par no = 86738 Density = 2.697066e+02 \n",
      "Evaluated =  64 % Time Left = 1.723643 s of 4.788030 s Par no = 74619 Density = 1.541137e+03 \n",
      "Evaluated =  65 % Time Left = 1.677677 s of 4.793498 s Par no = 30000 Density = 8.795471e+02 \n",
      "Evaluated =  66 % Time Left = 1.635642 s of 4.810855 s Par no = 73060 Density = 1.780165e+03 \n",
      "Evaluated =  67 % Time Left = 1.581416 s of 4.792313 s Par no = 6287 Density = 4.606663e+02 \n",
      "Evaluated =  68 % Time Left = 1.530216 s of 4.782074 s Par no = 6658 Density = 1.863657e+03 \n",
      "Evaluated =  69 % Time Left = 1.482210 s of 4.781475 s Par no = 67911 Density = 8.288649e+02 \n",
      "Evaluated =  70 % Time Left = 1.442017 s of 4.806884 s Par no = 29168 Density = 4.281922e+02 \n",
      "Evaluated =  71 % Time Left = 1.390366 s of 4.794530 s Par no = 57442 Density = 5.078591e+03 \n",
      "Evaluated =  72 % Time Left = 1.341396 s of 4.790871 s Par no = 967 Density = 1.713123e+02 \n",
      "Evaluated =  73 % Time Left = 1.291958 s of 4.785208 s Par no = 36307 Density = 4.724195e+02 \n",
      "Evaluated =  74 % Time Left = 1.244131 s of 4.785303 s Par no = 73808 Density = 6.696946e+02 \n",
      "Evaluated =  75 % Time Left = 1.195126 s of 4.780696 s Par no = 247 Density = 2.229976e+03 \n",
      "Evaluated =  76 % Time Left = 1.147940 s of 4.783283 s Par no = 27926 Density = 2.040230e+03 \n",
      "Evaluated =  77 % Time Left = 1.105207 s of 4.805457 s Par no = 10509 Density = 2.180094e+03 \n",
      "Evaluated =  78 % Time Left = 1.079216 s of 4.905751 s Par no = 25902 Density = 2.449908e+02 \n",
      "Evaluated =  79 % Time Left = 1.037354 s of 4.940014 s Par no = 11311 Density = 1.062102e+03 \n",
      "Evaluated =  80 % Time Left = 0.987676 s of 4.938625 s Par no = 4235 Density = 1.034802e+03 \n",
      "Evaluated =  81 % Time Left = 0.935234 s of 4.922544 s Par no = 54624 Density = 2.609566e+03 \n",
      "Evaluated =  82 % Time Left = 0.883262 s of 4.907284 s Par no = 58551 Density = 2.687528e+03 \n",
      "Evaluated =  83 % Time Left = 0.833255 s of 4.901787 s Par no = 23165 Density = 1.151110e+03 \n",
      "Evaluated =  84 % Time Left = 0.786480 s of 4.915808 s Par no = 23899 Density = 4.815728e+03 \n",
      "Evaluated =  85 % Time Left = 0.734939 s of 4.899920 s Par no = 78574 Density = 4.288715e+02 \n",
      "Evaluated =  86 % Time Left = 0.683068 s of 4.879407 s Par no = 17314 Density = 1.409695e+02 \n",
      "Evaluated =  87 % Time Left = 0.632311 s of 4.864305 s Par no = 86665 Density = 1.146745e+03 \n",
      "Evaluated =  88 % Time Left = 0.582068 s of 4.850969 s Par no = 49076 Density = 5.833948e+02 \n",
      "Evaluated =  89 % Time Left = 0.533509 s of 4.850524 s Par no = 51605 Density = 1.436844e+03 \n",
      "Evaluated =  90 % Time Left = 0.486215 s of 4.862641 s Par no = 89842 Density = 3.824458e+03 \n",
      "Evaluated =  91 % Time Left = 0.440350 s of 4.893319 s Par no = 27682 Density = 2.519146e+02 \n",
      "Evaluated =  92 % Time Left = 0.395311 s of 4.942011 s Par no = 85423 Density = 2.037029e+03 \n",
      "Evaluated =  93 % Time Left = 0.350374 s of 5.006054 s Par no = 91360 Density = 4.901151e+03 \n",
      "Evaluated =  94 % Time Left = 0.307369 s of 5.123674 s Par no = 48458 Density = 4.739605e+03 \n",
      "Evaluated =  95 % Time Left = 0.259548 s of 5.191998 s Par no = 15177 Density = 8.284080e+02 \n",
      "Evaluated =  96 % Time Left = 0.209272 s of 5.233100 s Par no = 85214 Density = 3.715761e+03 \n",
      "Evaluated =  97 % Time Left = 0.158319 s of 5.279062 s Par no = 31342 Density = 1.302372e+02 \n",
      "Evaluated =  98 % Time Left = 0.106304 s of 5.317879 s Par no = 39412 Density = 1.649000e+03 \n",
      "Evaluated =  99 % Time Left = 0.053149 s of 5.320227 s Par no = 13469 Density = 7.154352e+03 \n",
      "Evaluated = 100 % Time Left = -0.000053 s of 5.335823 s Par no = 13018 Density = 5.262710e+01 \n",
      "\n",
      "Total Smoothing Time = 5.33587 s\n",
      "1 3\n",
      "\n",
      "writing snapshot file ....\n",
      "to_enbid_d3n64.est\n",
      "done with snapshot.\n",
      "\n",
      "Total Time = 7.25111 s \n",
      "\n"
     ]
    }
   ],
   "source": [
    "name='demo'\n",
    "rho = EnBiD.enbid(points, name=name)"
   ]
  },
  {
   "cell_type": "markdown",
   "id": "5b85b27e",
   "metadata": {},
   "source": [
    "Show result"
   ]
  },
  {
   "cell_type": "code",
   "execution_count": 4,
   "id": "cf4db07a",
   "metadata": {},
   "outputs": [
    {
     "name": "stdout",
     "output_type": "stream",
     "text": [
      "[ 657.248    74.6801 4816.01   ... 4739.21   3921.71    430.199 ]\n"
     ]
    }
   ],
   "source": [
    "print(rho)"
   ]
  }
 ],
 "metadata": {
  "kernelspec": {
   "display_name": "base",
   "language": "python",
   "name": "python3"
  },
  "language_info": {
   "codemirror_mode": {
    "name": "ipython",
    "version": 3
   },
   "file_extension": ".py",
   "mimetype": "text/x-python",
   "name": "python",
   "nbconvert_exporter": "python",
   "pygments_lexer": "ipython3",
   "version": "3.10.8"
  },
  "vscode": {
   "interpreter": {
    "hash": "93aa337d3be5595eae1049f286a1f242db5cd4d40fd613efbe29fb4c796799bf"
   }
  }
 },
 "nbformat": 4,
 "nbformat_minor": 5
}
