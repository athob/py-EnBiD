{
 "cells": [
  {
   "cell_type": "code",
   "execution_count": 1,
   "id": "f130bf6c",
   "metadata": {},
   "outputs": [],
   "source": [
    "import numpy as np\n",
    "import EnBiD"
   ]
  },
  {
   "cell_type": "markdown",
   "id": "a8026efc",
   "metadata": {},
   "source": [
    "Creating mock coordinates"
   ]
  },
  {
   "cell_type": "code",
   "execution_count": 2,
   "id": "3a74890b",
   "metadata": {},
   "outputs": [],
   "source": [
    "points = np.random.randn(100000, 3)"
   ]
  },
  {
   "cell_type": "markdown",
   "id": "d0809afe",
   "metadata": {},
   "source": [
    "Test enbid"
   ]
  },
  {
   "cell_type": "code",
   "execution_count": 3,
   "id": "fa0e3b78",
   "metadata": {},
   "outputs": [
    {
     "name": "stdout",
     "output_type": "stream",
     "text": [
      "Dimensions = 3\n",
      "Normalization constant of Kernel type 3: 0.596831\n",
      "Reading ASCII format file: to_enbid \n",
      "Read 300000 records\n",
      "Allocated 3.8147 MByte for particle storage.\n",
      "Type = 1 Particles = 100000\n",
      "Total particles = 100000\n",
      "Allocated 22.1252 MByte for Binary-Tree and Entropy bins.\n",
      "\n",
      "Scaling Co-ordinates as x[i]=x[i]/h[i] with h[i]->\n",
      "1 1 1 \n",
      "\n",
      "Starting to Build Tree .......\n",
      "Particle Type = 1 First node number = 1\n",
      "                  Last node number  = 199999\n",
      "Total number of nodes = 199999\n",
      "Treebuild time = 0.264624 s \n",
      "\n",
      "Density Calculation. Smoothing .....\n",
      "Evaluated =   1 % Time Left = 3.253503 s of 3.286400 s Par no = 63913 Density = 2.102848e+03 \n",
      "Evaluated =   2 % Time Left = 3.387923 s of 3.457100 s Par no = 67188 Density = 1.745510e+03 \n",
      "Evaluated =   3 % Time Left = 3.825091 s of 3.943433 s Par no = 4338 Density = 4.001179e+03 \n",
      "Evaluated =   4 % Time Left = 3.639154 s of 3.790825 s Par no = 71744 Density = 6.145613e+03 \n",
      "Evaluated =   5 % Time Left = 3.624326 s of 3.815120 s Par no = 49145 Density = 2.356005e+03 \n",
      "Evaluated =   6 % Time Left = 3.833530 s of 4.078267 s Par no = 75251 Density = 2.060666e+03 \n",
      "Evaluated =   7 % Time Left = 3.827586 s of 4.115729 s Par no = 37474 Density = 1.748682e+03 \n",
      "Evaluated =   8 % Time Left = 3.719761 s of 4.043262 s Par no = 58729 Density = 5.031142e+03 \n",
      "Evaluated =   9 % Time Left = 3.617220 s of 3.975011 s Par no = 24875 Density = 1.014527e+03 \n",
      "Evaluated =  10 % Time Left = 3.541956 s of 3.935550 s Par no = 86439 Density = 3.150790e+03 \n",
      "Evaluated =  11 % Time Left = 3.481706 s of 3.912073 s Par no = 56268 Density = 4.017634e+03 \n",
      "Evaluated =  12 % Time Left = 3.584669 s of 4.073533 s Par no = 24651 Density = 1.682171e+03 \n",
      "Evaluated =  13 % Time Left = 3.535606 s of 4.063962 s Par no = 35313 Density = 1.426240e+03 \n",
      "Evaluated =  14 % Time Left = 3.503151 s of 4.073479 s Par no = 64797 Density = 4.333581e+03 \n",
      "Evaluated =  15 % Time Left = 3.480992 s of 4.095333 s Par no = 89594 Density = 6.725274e+03 \n",
      "Evaluated =  16 % Time Left = 3.471889 s of 4.133250 s Par no = 72890 Density = 5.181859e+03 \n",
      "Evaluated =  17 % Time Left = 3.433532 s of 4.136835 s Par no = 2947 Density = 3.627596e+03 \n",
      "Evaluated =  18 % Time Left = 3.482953 s of 4.247556 s Par no = 780 Density = 3.005766e+03 \n",
      "Evaluated =  19 % Time Left = 3.430423 s of 4.235142 s Par no = 59135 Density = 9.032474e+02 \n",
      "Evaluated =  20 % Time Left = 3.380302 s of 4.225430 s Par no = 67582 Density = 4.730417e+02 \n",
      "Evaluated =  21 % Time Left = 3.339939 s of 4.227824 s Par no = 11563 Density = 5.088388e+03 \n",
      "Evaluated =  22 % Time Left = 3.602781 s of 4.619009 s Par no = 65086 Density = 3.948777e+03 \n",
      "Evaluated =  23 % Time Left = 3.932359 s of 5.107026 s Par no = 2585 Density = 1.804420e+03 \n",
      "Evaluated =  24 % Time Left = 4.051763 s of 5.331338 s Par no = 90696 Density = 1.403210e+03 \n",
      "Evaluated =  25 % Time Left = 3.979987 s of 5.306720 s Par no = 10307 Density = 2.092701e+03 \n",
      "Evaluated =  26 % Time Left = 3.875513 s of 5.237250 s Par no = 24914 Density = 1.724898e+03 \n",
      "Evaluated =  27 % Time Left = 3.783481 s of 5.182922 s Par no = 47844 Density = 9.627710e+02 \n",
      "Evaluated =  28 % Time Left = 3.690286 s of 5.125468 s Par no = 88826 Density = 1.397810e+03 \n",
      "Evaluated =  29 % Time Left = 3.612356 s of 5.087897 s Par no = 1762 Density = 3.640539e+03 \n",
      "Evaluated =  30 % Time Left = 3.549465 s of 5.070737 s Par no = 84459 Density = 3.637688e+03 \n",
      "Evaluated =  31 % Time Left = 3.503342 s of 5.077381 s Par no = 38178 Density = 2.937147e+03 \n",
      "Evaluated =  32 % Time Left = 3.468572 s of 5.100916 s Par no = 13847 Density = 6.400976e+03 \n",
      "Evaluated =  33 % Time Left = 3.420528 s of 5.105342 s Par no = 91420 Density = 8.463681e+02 \n",
      "Evaluated =  34 % Time Left = 3.369313 s of 5.105097 s Par no = 1334 Density = 7.724458e+02 \n",
      "Evaluated =  35 % Time Left = 3.342787 s of 5.142829 s Par no = 58439 Density = 1.708789e+03 \n",
      "Evaluated =  36 % Time Left = 3.286873 s of 5.135819 s Par no = 50617 Density = 3.192226e+03 \n",
      "Evaluated =  37 % Time Left = 3.208325 s of 5.092659 s Par no = 27781 Density = 1.577499e+03 \n",
      "Evaluated =  38 % Time Left = 3.134092 s of 5.055068 s Par no = 57175 Density = 2.415997e+03 \n",
      "Evaluated =  39 % Time Left = 3.083526 s of 5.055044 s Par no = 44 Density = 3.496907e+03 \n",
      "Evaluated =  40 % Time Left = 3.028936 s of 5.048310 s Par no = 66607 Density = 5.559128e+03 \n",
      "Evaluated =  41 % Time Left = 2.963464 s of 5.022905 s Par no = 59674 Density = 4.079907e+03 \n",
      "Evaluated =  42 % Time Left = 2.893740 s of 4.989293 s Par no = 19876 Density = 1.041330e+03 \n",
      "Evaluated =  43 % Time Left = 2.830704 s of 4.966235 s Par no = 26648 Density = 2.544587e+03 \n",
      "Evaluated =  44 % Time Left = 2.767464 s of 4.941989 s Par no = 44469 Density = 2.613525e+03 \n",
      "Evaluated =  45 % Time Left = 2.716001 s of 4.938273 s Par no = 97542 Density = 1.050047e+03 \n",
      "Evaluated =  46 % Time Left = 2.667701 s of 4.940278 s Par no = 75739 Density = 1.782752e+03 \n",
      "Evaluated =  47 % Time Left = 2.607819 s of 4.920506 s Par no = 22521 Density = 2.056125e+03 \n",
      "Evaluated =  48 % Time Left = 2.552774 s of 4.909275 s Par no = 75396 Density = 1.433454e+03 \n",
      "Evaluated =  49 % Time Left = 2.516734 s of 4.934869 s Par no = 38340 Density = 3.552764e+03 \n",
      "Evaluated =  50 % Time Left = 2.460990 s of 4.922078 s Par no = 70084 Density = 1.665920e+03 \n",
      "Evaluated =  51 % Time Left = 2.402367 s of 4.902890 s Par no = 14700 Density = 1.022186e+03 \n",
      "Evaluated =  52 % Time Left = 2.356526 s of 4.909531 s Par no = 38812 Density = 3.745540e+03 \n",
      "Evaluated =  53 % Time Left = 2.305508 s of 4.905442 s Par no = 11 Density = 5.060339e+03 \n",
      "Evaluated =  54 % Time Left = 2.248112 s of 4.887306 s Par no = 7329 Density = 1.928287e+03 \n",
      "Evaluated =  55 % Time Left = 2.251865 s of 5.004255 s Par no = 38129 Density = 1.837941e+03 \n",
      "Evaluated =  56 % Time Left = 2.204481 s of 5.010298 s Par no = 62627 Density = 5.230532e+03 \n",
      "Evaluated =  57 % Time Left = 2.155013 s of 5.011774 s Par no = 11723 Density = 3.415539e+03 \n",
      "Evaluated =  58 % Time Left = 2.103928 s of 5.009472 s Par no = 48852 Density = 2.639065e+03 \n",
      "Evaluated =  59 % Time Left = 2.050753 s of 5.001959 s Par no = 21564 Density = 3.308437e+03 \n",
      "Evaluated =  60 % Time Left = 1.991376 s of 4.978565 s Par no = 38218 Density = 6.822917e+02 \n",
      "Evaluated =  61 % Time Left = 1.932508 s of 4.955277 s Par no = 80109 Density = 2.726541e+03 \n",
      "Evaluated =  62 % Time Left = 1.875737 s of 4.936279 s Par no = 70869 Density = 7.671531e+02 \n",
      "Evaluated =  63 % Time Left = 1.825359 s of 4.933535 s Par no = 63243 Density = 4.868835e+03 \n",
      "Evaluated =  64 % Time Left = 1.787267 s of 4.964767 s Par no = 29729 Density = 2.857474e+03 \n",
      "Evaluated =  65 % Time Left = 1.731883 s of 4.948378 s Par no = 85714 Density = 2.713569e+03 \n",
      "Evaluated =  66 % Time Left = 1.675626 s of 4.928456 s Par no = 59025 Density = 2.038420e+03 \n",
      "Evaluated =  67 % Time Left = 1.630614 s of 4.941404 s Par no = 14789 Density = 8.375739e+02 \n",
      "Evaluated =  68 % Time Left = 1.578784 s of 4.933854 s Par no = 17117 Density = 7.703009e+02 \n",
      "Evaluated =  69 % Time Left = 1.526693 s of 4.924975 s Par no = 35573 Density = 5.768464e+03 \n",
      "Evaluated =  70 % Time Left = 1.478889 s of 4.929794 s Par no = 27775 Density = 2.287820e+03 \n",
      "Evaluated =  71 % Time Left = 1.427142 s of 4.921349 s Par no = 95369 Density = 4.316154e+03 \n",
      "Evaluated =  72 % Time Left = 1.375596 s of 4.913017 s Par no = 3624 Density = 4.238347e+03 \n",
      "Evaluated =  73 % Time Left = 1.325028 s of 4.907692 s Par no = 41976 Density = 1.994747e+03 \n",
      "Evaluated =  74 % Time Left = 1.271653 s of 4.891159 s Par no = 68738 Density = 1.451318e+03 \n",
      "Evaluated =  75 % Time Left = 1.221395 s of 4.885777 s Par no = 17846 Density = 7.282076e+03 \n",
      "Evaluated =  76 % Time Left = 1.173172 s of 4.888420 s Par no = 64275 Density = 2.629630e+02 \n",
      "Evaluated =  77 % Time Left = 1.123073 s of 4.883139 s Par no = 85180 Density = 5.681850e+03 \n",
      "Evaluated =  78 % Time Left = 1.075680 s of 4.889676 s Par no = 43766 Density = 1.452744e+03 \n",
      "Evaluated =  79 % Time Left = 1.031657 s of 4.912887 s Par no = 21598 Density = 2.715525e+03 \n",
      "Evaluated =  80 % Time Left = 0.983568 s of 4.918084 s Par no = 71951 Density = 4.727317e+02 \n",
      "Evaluated =  81 % Time Left = 0.942720 s of 4.961944 s Par no = 81188 Density = 1.448262e+03 \n",
      "Evaluated =  82 % Time Left = 0.892619 s of 4.959270 s Par no = 5409 Density = 6.354614e+01 \n",
      "Evaluated =  83 % Time Left = 0.840672 s of 4.945420 s Par no = 46890 Density = 4.667704e+02 \n",
      "Evaluated =  84 % Time Left = 0.788197 s of 4.926540 s Par no = 84786 Density = 9.711295e+02 \n",
      "Evaluated =  85 % Time Left = 0.736482 s of 4.910209 s Par no = 13372 Density = 2.838935e+03 \n",
      "Evaluated =  86 % Time Left = 0.685626 s of 4.897676 s Par no = 27861 Density = 1.211693e+03 \n"
     ]
    },
    {
     "name": "stdout",
     "output_type": "stream",
     "text": [
      "Evaluated =  87 % Time Left = 0.635446 s of 4.888418 s Par no = 12437 Density = 2.247822e+02 \n",
      "Evaluated =  88 % Time Left = 0.584888 s of 4.874473 s Par no = 18193 Density = 3.439611e+03 \n",
      "Evaluated =  89 % Time Left = 0.534853 s of 4.862743 s Par no = 81073 Density = 5.412093e+01 \n",
      "Evaluated =  90 % Time Left = 0.484899 s of 4.849470 s Par no = 23278 Density = 1.591408e+03 \n",
      "Evaluated =  91 % Time Left = 0.437190 s of 4.858208 s Par no = 4280 Density = 3.550276e+03 \n",
      "Evaluated =  92 % Time Left = 0.390737 s of 4.884818 s Par no = 15543 Density = 2.099946e+03 \n",
      "Evaluated =  93 % Time Left = 0.341169 s of 4.874538 s Par no = 24441 Density = 3.810349e+03 \n",
      "Evaluated =  94 % Time Left = 0.292339 s of 4.873122 s Par no = 15575 Density = 2.427782e+03 \n",
      "Evaluated =  95 % Time Left = 0.243661 s of 4.874203 s Par no = 78824 Density = 4.562801e+03 \n",
      "Evaluated =  96 % Time Left = 0.194472 s of 4.863005 s Par no = 44257 Density = 2.664168e+02 \n",
      "Evaluated =  97 % Time Left = 0.145667 s of 4.857201 s Par no = 37983 Density = 1.498354e+03 \n",
      "Evaluated =  98 % Time Left = 0.097256 s of 4.865210 s Par no = 67938 Density = 5.531082e+03 \n",
      "Evaluated =  99 % Time Left = 0.048547 s of 4.859608 s Par no = 20137 Density = 2.426957e+03 \n",
      "Evaluated = 100 % Time Left = -0.000049 s of 4.859029 s Par no = 49494 Density = 6.815171e-01 \n",
      "\n",
      "Total Smoothing Time = 4.85911 s\n",
      "1 3\n",
      "\n",
      "writing snapshot file ....\n",
      "to_enbid_d3n64.est\n",
      "done with snapshot.\n",
      "\n",
      "Total Time = 5.97328 s \n",
      "\n"
     ]
    }
   ],
   "source": [
    "name='demo'\n",
    "rho = EnBiD.enbid(points, name=name)"
   ]
  },
  {
   "cell_type": "markdown",
   "id": "5b85b27e",
   "metadata": {},
   "source": [
    "Show result"
   ]
  },
  {
   "cell_type": "code",
   "execution_count": 4,
   "id": "cf4db07a",
   "metadata": {},
   "outputs": [
    {
     "name": "stdout",
     "output_type": "stream",
     "text": [
      "[  79.9233 1249.09   1092.35   ... 1243.83    275.751  1127.97  ]\n"
     ]
    }
   ],
   "source": [
    "print(rho)"
   ]
  }
 ],
 "metadata": {
  "kernelspec": {
   "display_name": "Python 3 (ipykernel)",
   "language": "python",
   "name": "python3"
  },
  "language_info": {
   "codemirror_mode": {
    "name": "ipython",
    "version": 3
   },
   "file_extension": ".py",
   "mimetype": "text/x-python",
   "name": "python",
   "nbconvert_exporter": "python",
   "pygments_lexer": "ipython3",
   "version": "3.8.10"
  }
 },
 "nbformat": 4,
 "nbformat_minor": 5
}
